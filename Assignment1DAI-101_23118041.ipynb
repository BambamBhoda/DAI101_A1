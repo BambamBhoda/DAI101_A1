{
 "cells": [
  {
   "cell_type": "markdown",
   "metadata": {},
   "source": [
    "## <center>Downloading the Dataset</center>\n",
    "\n",
    "The dataset is unpacked and opened using the `opendatasets` package from the `jovian` library."
   ]
  },
  {
   "cell_type": "code",
   "execution_count": 1,
   "metadata": {},
   "outputs": [],
   "source": [
    "!pip install jovian opendatasets --upgrade --quiet"
   ]
  },
  {
   "cell_type": "code",
   "execution_count": 2,
   "metadata": {},
   "outputs": [],
   "source": [
    "dataset_url = 'https://www.kaggle.com/prakrutchauhan/indian-candidates-for-general-election-2019' "
   ]
  },
  {
   "cell_type": "markdown",
   "metadata": {},
   "source": [
    "Let's begin by downloading the data, and listing the files within the dataset."
   ]
  },
  {
   "cell_type": "code",
   "execution_count": 3,
   "metadata": {},
   "outputs": [
    {
     "name": "stdout",
     "output_type": "stream",
     "text": [
      "Skipping, found downloaded files in \"./indian-candidates-for-general-election-2019\" (use force=True to force download)\n"
     ]
    }
   ],
   "source": [
    "import opendatasets as od\n",
    "od.download(dataset_url)"
   ]
  },
  {
   "cell_type": "markdown",
   "metadata": {},
   "source": [
    "The dataset has been downloaded and extracted."
   ]
  },
  {
   "cell_type": "code",
   "execution_count": 4,
   "metadata": {},
   "outputs": [],
   "source": [
    "data_dir = './indian-candidates-for-general-election-2019'"
   ]
  },
  {
   "cell_type": "code",
   "execution_count": 5,
   "metadata": {},
   "outputs": [
    {
     "data": {
      "text/plain": [
       "['LS_2.0.csv']"
      ]
     },
     "execution_count": 5,
     "metadata": {},
     "output_type": "execute_result"
    }
   ],
   "source": [
    "import os\n",
    "os.listdir(data_dir)"
   ]
  },
  {
   "cell_type": "markdown",
   "metadata": {},
   "source": [
    "Let us save and upload our work to Jovian before continuing."
   ]
  },
  {
   "cell_type": "code",
   "execution_count": 6,
   "metadata": {},
   "outputs": [],
   "source": [
    "project_name = \"general-elections-analysis\""
   ]
  },
  {
   "cell_type": "code",
   "execution_count": 7,
   "metadata": {},
   "outputs": [],
   "source": [
    "!pip install jovian --upgrade -q"
   ]
  },
  {
   "cell_type": "code",
   "execution_count": 8,
   "metadata": {},
   "outputs": [],
   "source": [
    "import jovian"
   ]
  },
  {
   "cell_type": "code",
   "execution_count": 9,
   "metadata": {},
   "outputs": [
    {
     "data": {
      "application/javascript": "window.require && require([\"base/js/namespace\"],function(Jupyter){Jupyter.notebook.save_checkpoint()})",
      "text/plain": [
       "<IPython.core.display.Javascript object>"
      ]
     },
     "metadata": {},
     "output_type": "display_data"
    },
    {
     "name": "stdout",
     "output_type": "stream",
     "text": [
      "[jovian] Updating notebook \"ash007online/general-elections-analysis\" on https://jovian.ai\u001b[0m\n",
      "[jovian] Committed successfully! https://jovian.ai/ash007online/general-elections-analysis\u001b[0m\n"
     ]
    },
    {
     "data": {
      "text/plain": [
       "'https://jovian.ai/ash007online/general-elections-analysis'"
      ]
     },
     "execution_count": 9,
     "metadata": {},
     "output_type": "execute_result"
    }
   ],
   "source": [
    "jovian.commit(project=project_name)"
   ]
  },
  {
   "cell_type": "markdown",
   "metadata": {},
   "source": [
    "The raw data is now obtained. First we need to clean and simplify the data in order to prepare it for Analysis."
   ]
  },
  {
   "cell_type": "code",
   "execution_count": 10,
   "metadata": {},
   "outputs": [],
   "source": [
    "import pandas as pd"
   ]
  },
  {
   "cell_type": "markdown",
   "metadata": {},
   "source": [
    "Here we first load the dataset onto a DataFrame."
   ]
  },
  {
   "cell_type": "code",
   "execution_count": 11,
   "metadata": {},
   "outputs": [],
   "source": [
    "raw_election_data = pd.read_csv('./indian-candidates-for-general-election-2019/LS_2.0.csv')"
   ]
  },
  {
   "cell_type": "code",
   "execution_count": 12,
   "metadata": {},
   "outputs": [
    {
     "data": {
      "text/html": [
       "<div>\n",
       "<style scoped>\n",
       "    .dataframe tbody tr th:only-of-type {\n",
       "        vertical-align: middle;\n",
       "    }\n",
       "\n",
       "    .dataframe tbody tr th {\n",
       "        vertical-align: top;\n",
       "    }\n",
       "\n",
       "    .dataframe thead th {\n",
       "        text-align: right;\n",
       "    }\n",
       "</style>\n",
       "<table border=\"1\" class=\"dataframe\">\n",
       "  <thead>\n",
       "    <tr style=\"text-align: right;\">\n",
       "      <th></th>\n",
       "      <th>STATE</th>\n",
       "      <th>CONSTITUENCY</th>\n",
       "      <th>NAME</th>\n",
       "      <th>WINNER</th>\n",
       "      <th>PARTY</th>\n",
       "      <th>SYMBOL</th>\n",
       "      <th>GENDER</th>\n",
       "      <th>CRIMINAL\\nCASES</th>\n",
       "      <th>AGE</th>\n",
       "      <th>CATEGORY</th>\n",
       "      <th>EDUCATION</th>\n",
       "      <th>ASSETS</th>\n",
       "      <th>LIABILITIES</th>\n",
       "      <th>GENERAL\\nVOTES</th>\n",
       "      <th>POSTAL\\nVOTES</th>\n",
       "      <th>TOTAL\\nVOTES</th>\n",
       "      <th>OVER TOTAL ELECTORS \\nIN CONSTITUENCY</th>\n",
       "      <th>OVER TOTAL VOTES POLLED \\nIN CONSTITUENCY</th>\n",
       "      <th>TOTAL ELECTORS</th>\n",
       "    </tr>\n",
       "  </thead>\n",
       "  <tbody>\n",
       "    <tr>\n",
       "      <th>0</th>\n",
       "      <td>Telangana</td>\n",
       "      <td>ADILABAD</td>\n",
       "      <td>SOYAM BAPU RAO</td>\n",
       "      <td>1</td>\n",
       "      <td>BJP</td>\n",
       "      <td>Lotus</td>\n",
       "      <td>MALE</td>\n",
       "      <td>52</td>\n",
       "      <td>52.0</td>\n",
       "      <td>ST</td>\n",
       "      <td>12th Pass</td>\n",
       "      <td>Rs 30,99,414\\n ~ 30 Lacs+</td>\n",
       "      <td>Rs 2,31,450\\n ~ 2 Lacs+</td>\n",
       "      <td>376892</td>\n",
       "      <td>482</td>\n",
       "      <td>377374</td>\n",
       "      <td>25.330684</td>\n",
       "      <td>35.468248</td>\n",
       "      <td>1489790</td>\n",
       "    </tr>\n",
       "    <tr>\n",
       "      <th>1</th>\n",
       "      <td>Telangana</td>\n",
       "      <td>ADILABAD</td>\n",
       "      <td>Godam Nagesh</td>\n",
       "      <td>0</td>\n",
       "      <td>TRS</td>\n",
       "      <td>Car</td>\n",
       "      <td>MALE</td>\n",
       "      <td>0</td>\n",
       "      <td>54.0</td>\n",
       "      <td>ST</td>\n",
       "      <td>Post Graduate</td>\n",
       "      <td>Rs 1,84,77,888\\n ~ 1 Crore+</td>\n",
       "      <td>Rs 8,47,000\\n ~ 8 Lacs+</td>\n",
       "      <td>318665</td>\n",
       "      <td>149</td>\n",
       "      <td>318814</td>\n",
       "      <td>21.399929</td>\n",
       "      <td>29.964370</td>\n",
       "      <td>1489790</td>\n",
       "    </tr>\n",
       "    <tr>\n",
       "      <th>2</th>\n",
       "      <td>Telangana</td>\n",
       "      <td>ADILABAD</td>\n",
       "      <td>RATHOD RAMESH</td>\n",
       "      <td>0</td>\n",
       "      <td>INC</td>\n",
       "      <td>Hand</td>\n",
       "      <td>MALE</td>\n",
       "      <td>3</td>\n",
       "      <td>52.0</td>\n",
       "      <td>ST</td>\n",
       "      <td>12th Pass</td>\n",
       "      <td>Rs 3,64,91,000\\n ~ 3 Crore+</td>\n",
       "      <td>Rs 1,53,00,000\\n ~ 1 Crore+</td>\n",
       "      <td>314057</td>\n",
       "      <td>181</td>\n",
       "      <td>314238</td>\n",
       "      <td>21.092771</td>\n",
       "      <td>29.534285</td>\n",
       "      <td>1489790</td>\n",
       "    </tr>\n",
       "    <tr>\n",
       "      <th>3</th>\n",
       "      <td>Telangana</td>\n",
       "      <td>ADILABAD</td>\n",
       "      <td>NOTA</td>\n",
       "      <td>0</td>\n",
       "      <td>NOTA</td>\n",
       "      <td>NaN</td>\n",
       "      <td>NaN</td>\n",
       "      <td>NaN</td>\n",
       "      <td>NaN</td>\n",
       "      <td>NaN</td>\n",
       "      <td>NaN</td>\n",
       "      <td>NaN</td>\n",
       "      <td>NaN</td>\n",
       "      <td>13030</td>\n",
       "      <td>6</td>\n",
       "      <td>13036</td>\n",
       "      <td>0.875023</td>\n",
       "      <td>1.225214</td>\n",
       "      <td>1489790</td>\n",
       "    </tr>\n",
       "    <tr>\n",
       "      <th>4</th>\n",
       "      <td>Uttar Pradesh</td>\n",
       "      <td>AGRA</td>\n",
       "      <td>Satyapal Singh Baghel</td>\n",
       "      <td>1</td>\n",
       "      <td>BJP</td>\n",
       "      <td>Lotus</td>\n",
       "      <td>MALE</td>\n",
       "      <td>5</td>\n",
       "      <td>58.0</td>\n",
       "      <td>SC</td>\n",
       "      <td>Doctorate</td>\n",
       "      <td>Rs 7,42,74,036\\n ~ 7 Crore+</td>\n",
       "      <td>Rs 86,06,522\\n ~ 86 Lacs+</td>\n",
       "      <td>644459</td>\n",
       "      <td>2416</td>\n",
       "      <td>646875</td>\n",
       "      <td>33.383823</td>\n",
       "      <td>56.464615</td>\n",
       "      <td>1937690</td>\n",
       "    </tr>\n",
       "    <tr>\n",
       "      <th>...</th>\n",
       "      <td>...</td>\n",
       "      <td>...</td>\n",
       "      <td>...</td>\n",
       "      <td>...</td>\n",
       "      <td>...</td>\n",
       "      <td>...</td>\n",
       "      <td>...</td>\n",
       "      <td>...</td>\n",
       "      <td>...</td>\n",
       "      <td>...</td>\n",
       "      <td>...</td>\n",
       "      <td>...</td>\n",
       "      <td>...</td>\n",
       "      <td>...</td>\n",
       "      <td>...</td>\n",
       "      <td>...</td>\n",
       "      <td>...</td>\n",
       "      <td>...</td>\n",
       "      <td>...</td>\n",
       "    </tr>\n",
       "    <tr>\n",
       "      <th>2258</th>\n",
       "      <td>Maharashtra</td>\n",
       "      <td>YAVATMAL-WASHIM</td>\n",
       "      <td>Anil Jayram Rathod</td>\n",
       "      <td>0</td>\n",
       "      <td>IND</td>\n",
       "      <td>SHIP</td>\n",
       "      <td>MALE</td>\n",
       "      <td>0</td>\n",
       "      <td>43.0</td>\n",
       "      <td>GENERAL</td>\n",
       "      <td>Post Graduate</td>\n",
       "      <td>Rs 48,90,000\\n ~ 48 Lacs+</td>\n",
       "      <td>Rs 10,20,000\\n ~ 10 Lacs+</td>\n",
       "      <td>14661</td>\n",
       "      <td>25</td>\n",
       "      <td>14686</td>\n",
       "      <td>0.766419</td>\n",
       "      <td>1.250060</td>\n",
       "      <td>1916185</td>\n",
       "    </tr>\n",
       "    <tr>\n",
       "      <th>2259</th>\n",
       "      <td>Telangana</td>\n",
       "      <td>ZAHIRABAD</td>\n",
       "      <td>B.B.PATIL</td>\n",
       "      <td>1</td>\n",
       "      <td>TRS</td>\n",
       "      <td>Car</td>\n",
       "      <td>MALE</td>\n",
       "      <td>18</td>\n",
       "      <td>63.0</td>\n",
       "      <td>GENERAL</td>\n",
       "      <td>Graduate</td>\n",
       "      <td>Rs 1,28,78,51,556\\n ~ 128 Crore+</td>\n",
       "      <td>Rs 1,15,35,000\\n ~ 1 Crore+</td>\n",
       "      <td>434066</td>\n",
       "      <td>178</td>\n",
       "      <td>434244</td>\n",
       "      <td>28.975369</td>\n",
       "      <td>41.574183</td>\n",
       "      <td>1498666</td>\n",
       "    </tr>\n",
       "    <tr>\n",
       "      <th>2260</th>\n",
       "      <td>Telangana</td>\n",
       "      <td>ZAHIRABAD</td>\n",
       "      <td>MADAN MOHAN RAO</td>\n",
       "      <td>0</td>\n",
       "      <td>INC</td>\n",
       "      <td>Hand</td>\n",
       "      <td>MALE</td>\n",
       "      <td>0</td>\n",
       "      <td>49.0</td>\n",
       "      <td>GENERAL</td>\n",
       "      <td>Post Graduate</td>\n",
       "      <td>Rs 90,36,63,001\\n ~ 90 Crore+</td>\n",
       "      <td>Rs 0\\n ~</td>\n",
       "      <td>427900</td>\n",
       "      <td>115</td>\n",
       "      <td>428015</td>\n",
       "      <td>28.559732</td>\n",
       "      <td>40.977823</td>\n",
       "      <td>1498666</td>\n",
       "    </tr>\n",
       "    <tr>\n",
       "      <th>2261</th>\n",
       "      <td>Telangana</td>\n",
       "      <td>ZAHIRABAD</td>\n",
       "      <td>BANALA LAXMA REDDY</td>\n",
       "      <td>0</td>\n",
       "      <td>BJP</td>\n",
       "      <td>Lotus</td>\n",
       "      <td>MALE</td>\n",
       "      <td>3</td>\n",
       "      <td>47.0</td>\n",
       "      <td>GENERAL</td>\n",
       "      <td>12th Pass</td>\n",
       "      <td>Rs 5,85,77,327\\n ~ 5 Crore+</td>\n",
       "      <td>Rs 52,50,000\\n ~ 52 Lacs+</td>\n",
       "      <td>138731</td>\n",
       "      <td>216</td>\n",
       "      <td>138947</td>\n",
       "      <td>9.271379</td>\n",
       "      <td>13.302678</td>\n",
       "      <td>1498666</td>\n",
       "    </tr>\n",
       "    <tr>\n",
       "      <th>2262</th>\n",
       "      <td>Telangana</td>\n",
       "      <td>ZAHIRABAD</td>\n",
       "      <td>NOTA</td>\n",
       "      <td>0</td>\n",
       "      <td>NOTA</td>\n",
       "      <td>NaN</td>\n",
       "      <td>NaN</td>\n",
       "      <td>NaN</td>\n",
       "      <td>NaN</td>\n",
       "      <td>NaN</td>\n",
       "      <td>NaN</td>\n",
       "      <td>NaN</td>\n",
       "      <td>NaN</td>\n",
       "      <td>11138</td>\n",
       "      <td>2</td>\n",
       "      <td>11140</td>\n",
       "      <td>0.743328</td>\n",
       "      <td>1.066535</td>\n",
       "      <td>1498666</td>\n",
       "    </tr>\n",
       "  </tbody>\n",
       "</table>\n",
       "<p>2263 rows × 19 columns</p>\n",
       "</div>"
      ],
      "text/plain": [
       "              STATE     CONSTITUENCY                   NAME  WINNER PARTY  \\\n",
       "0         Telangana         ADILABAD         SOYAM BAPU RAO       1   BJP   \n",
       "1         Telangana         ADILABAD           Godam Nagesh       0   TRS   \n",
       "2         Telangana         ADILABAD          RATHOD RAMESH       0   INC   \n",
       "3         Telangana         ADILABAD                   NOTA       0  NOTA   \n",
       "4     Uttar Pradesh             AGRA  Satyapal Singh Baghel       1   BJP   \n",
       "...             ...              ...                    ...     ...   ...   \n",
       "2258    Maharashtra  YAVATMAL-WASHIM     Anil Jayram Rathod       0   IND   \n",
       "2259      Telangana        ZAHIRABAD              B.B.PATIL       1   TRS   \n",
       "2260      Telangana        ZAHIRABAD        MADAN MOHAN RAO       0   INC   \n",
       "2261      Telangana        ZAHIRABAD     BANALA LAXMA REDDY       0   BJP   \n",
       "2262      Telangana        ZAHIRABAD                   NOTA       0  NOTA   \n",
       "\n",
       "     SYMBOL GENDER CRIMINAL\\nCASES   AGE CATEGORY      EDUCATION  \\\n",
       "0     Lotus   MALE              52  52.0       ST      12th Pass   \n",
       "1       Car   MALE               0  54.0       ST  Post Graduate   \n",
       "2      Hand   MALE               3  52.0       ST      12th Pass   \n",
       "3       NaN    NaN             NaN   NaN      NaN            NaN   \n",
       "4     Lotus   MALE               5  58.0       SC      Doctorate   \n",
       "...     ...    ...             ...   ...      ...            ...   \n",
       "2258   SHIP   MALE               0  43.0  GENERAL  Post Graduate   \n",
       "2259    Car   MALE              18  63.0  GENERAL       Graduate   \n",
       "2260   Hand   MALE               0  49.0  GENERAL  Post Graduate   \n",
       "2261  Lotus   MALE               3  47.0  GENERAL      12th Pass   \n",
       "2262    NaN    NaN             NaN   NaN      NaN            NaN   \n",
       "\n",
       "                                ASSETS                  LIABILITIES  \\\n",
       "0            Rs 30,99,414\\n ~ 30 Lacs+      Rs 2,31,450\\n ~ 2 Lacs+   \n",
       "1          Rs 1,84,77,888\\n ~ 1 Crore+      Rs 8,47,000\\n ~ 8 Lacs+   \n",
       "2          Rs 3,64,91,000\\n ~ 3 Crore+  Rs 1,53,00,000\\n ~ 1 Crore+   \n",
       "3                                  NaN                          NaN   \n",
       "4          Rs 7,42,74,036\\n ~ 7 Crore+    Rs 86,06,522\\n ~ 86 Lacs+   \n",
       "...                                ...                          ...   \n",
       "2258         Rs 48,90,000\\n ~ 48 Lacs+    Rs 10,20,000\\n ~ 10 Lacs+   \n",
       "2259  Rs 1,28,78,51,556\\n ~ 128 Crore+  Rs 1,15,35,000\\n ~ 1 Crore+   \n",
       "2260     Rs 90,36,63,001\\n ~ 90 Crore+                     Rs 0\\n ~   \n",
       "2261       Rs 5,85,77,327\\n ~ 5 Crore+    Rs 52,50,000\\n ~ 52 Lacs+   \n",
       "2262                               NaN                          NaN   \n",
       "\n",
       "      GENERAL\\nVOTES  POSTAL\\nVOTES  TOTAL\\nVOTES  \\\n",
       "0             376892            482        377374   \n",
       "1             318665            149        318814   \n",
       "2             314057            181        314238   \n",
       "3              13030              6         13036   \n",
       "4             644459           2416        646875   \n",
       "...              ...            ...           ...   \n",
       "2258           14661             25         14686   \n",
       "2259          434066            178        434244   \n",
       "2260          427900            115        428015   \n",
       "2261          138731            216        138947   \n",
       "2262           11138              2         11140   \n",
       "\n",
       "      OVER TOTAL ELECTORS \\nIN CONSTITUENCY  \\\n",
       "0                                 25.330684   \n",
       "1                                 21.399929   \n",
       "2                                 21.092771   \n",
       "3                                  0.875023   \n",
       "4                                 33.383823   \n",
       "...                                     ...   \n",
       "2258                               0.766419   \n",
       "2259                              28.975369   \n",
       "2260                              28.559732   \n",
       "2261                               9.271379   \n",
       "2262                               0.743328   \n",
       "\n",
       "      OVER TOTAL VOTES POLLED \\nIN CONSTITUENCY  TOTAL ELECTORS  \n",
       "0                                     35.468248         1489790  \n",
       "1                                     29.964370         1489790  \n",
       "2                                     29.534285         1489790  \n",
       "3                                      1.225214         1489790  \n",
       "4                                     56.464615         1937690  \n",
       "...                                         ...             ...  \n",
       "2258                                   1.250060         1916185  \n",
       "2259                                  41.574183         1498666  \n",
       "2260                                  40.977823         1498666  \n",
       "2261                                  13.302678         1498666  \n",
       "2262                                   1.066535         1498666  \n",
       "\n",
       "[2263 rows x 19 columns]"
      ]
     },
     "execution_count": 12,
     "metadata": {},
     "output_type": "execute_result"
    }
   ],
   "source": [
    "raw_election_data"
   ]
  },
  {
   "cell_type": "markdown",
   "metadata": {},
   "source": [
    "The function `convert(x)` below is used to convert the `ASSETS` and `LIABILITIES` columns of the `raw_election_data` DataFrame into numeric values."
   ]
  },
  {
   "cell_type": "code",
   "execution_count": 13,
   "metadata": {},
   "outputs": [],
   "source": [
    "def convert(x):\n",
    "    '''\n",
    "    Extract the numeric value from the passed string and return it as float\n",
    "    '''\n",
    "    if str(x)[0] == 'R':\n",
    "#         this is to ensure only valid values (and not NaN values) are converted\n",
    "        return float(str(x).split()[1].replace(\",\", \"\"))\n",
    "    return 0.0 \n",
    "# default 0"
   ]
  },
  {
   "cell_type": "code",
   "execution_count": 14,
   "metadata": {},
   "outputs": [],
   "source": [
    "raw_election_data.ASSETS = raw_election_data.ASSETS.apply(convert)\n",
    "raw_election_data.LIABILITIES = raw_election_data.LIABILITIES.apply(convert)\n",
    "# convert the ASSETS and LIABILITIES to numeric data\n",
    "\n",
    "# the above can also be done using lambda function "
   ]
  },
  {
   "cell_type": "code",
   "execution_count": 15,
   "metadata": {},
   "outputs": [
    {
     "data": {
      "text/html": [
       "<div>\n",
       "<style scoped>\n",
       "    .dataframe tbody tr th:only-of-type {\n",
       "        vertical-align: middle;\n",
       "    }\n",
       "\n",
       "    .dataframe tbody tr th {\n",
       "        vertical-align: top;\n",
       "    }\n",
       "\n",
       "    .dataframe thead th {\n",
       "        text-align: right;\n",
       "    }\n",
       "</style>\n",
       "<table border=\"1\" class=\"dataframe\">\n",
       "  <thead>\n",
       "    <tr style=\"text-align: right;\">\n",
       "      <th></th>\n",
       "      <th>STATE</th>\n",
       "      <th>CONSTITUENCY</th>\n",
       "      <th>NAME</th>\n",
       "      <th>WINNER</th>\n",
       "      <th>PARTY</th>\n",
       "      <th>SYMBOL</th>\n",
       "      <th>GENDER</th>\n",
       "      <th>CRIMINAL\\nCASES</th>\n",
       "      <th>AGE</th>\n",
       "      <th>CATEGORY</th>\n",
       "      <th>EDUCATION</th>\n",
       "      <th>ASSETS</th>\n",
       "      <th>LIABILITIES</th>\n",
       "      <th>GENERAL\\nVOTES</th>\n",
       "      <th>POSTAL\\nVOTES</th>\n",
       "      <th>TOTAL\\nVOTES</th>\n",
       "      <th>OVER TOTAL ELECTORS \\nIN CONSTITUENCY</th>\n",
       "      <th>OVER TOTAL VOTES POLLED \\nIN CONSTITUENCY</th>\n",
       "      <th>TOTAL ELECTORS</th>\n",
       "    </tr>\n",
       "  </thead>\n",
       "  <tbody>\n",
       "    <tr>\n",
       "      <th>1688</th>\n",
       "      <td>Uttar Pradesh</td>\n",
       "      <td>PRATAPGARH</td>\n",
       "      <td>SANGAM LAL GUPTA</td>\n",
       "      <td>1</td>\n",
       "      <td>BJP</td>\n",
       "      <td>Lotus</td>\n",
       "      <td>MALE</td>\n",
       "      <td>2</td>\n",
       "      <td>48.0</td>\n",
       "      <td>GENERAL</td>\n",
       "      <td>8th Pass</td>\n",
       "      <td>248789514.0</td>\n",
       "      <td>8895225.0</td>\n",
       "      <td>434222</td>\n",
       "      <td>2069</td>\n",
       "      <td>436291</td>\n",
       "      <td>25.532623</td>\n",
       "      <td>47.668583</td>\n",
       "      <td>1708759</td>\n",
       "    </tr>\n",
       "    <tr>\n",
       "      <th>2105</th>\n",
       "      <td>Andhra Pradesh</td>\n",
       "      <td>TIRUPATI</td>\n",
       "      <td>Balli Durga Prasad Rao</td>\n",
       "      <td>1</td>\n",
       "      <td>YSRCP</td>\n",
       "      <td>Ceiling Fan</td>\n",
       "      <td>MALE</td>\n",
       "      <td>0</td>\n",
       "      <td>63.0</td>\n",
       "      <td>SC</td>\n",
       "      <td>Graduate Professional</td>\n",
       "      <td>17426921.0</td>\n",
       "      <td>0.0</td>\n",
       "      <td>717924</td>\n",
       "      <td>4953</td>\n",
       "      <td>722877</td>\n",
       "      <td>43.798703</td>\n",
       "      <td>54.910127</td>\n",
       "      <td>1650453</td>\n",
       "    </tr>\n",
       "    <tr>\n",
       "      <th>1245</th>\n",
       "      <td>Andhra Pradesh</td>\n",
       "      <td>KURNOOL</td>\n",
       "      <td>AYUSHMAN DOCTOR SANJEEV KUMAR</td>\n",
       "      <td>1</td>\n",
       "      <td>YSRCP</td>\n",
       "      <td>Ceiling Fan</td>\n",
       "      <td>MALE</td>\n",
       "      <td>0</td>\n",
       "      <td>52.0</td>\n",
       "      <td>GENERAL</td>\n",
       "      <td>Post Graduate</td>\n",
       "      <td>325914387.0</td>\n",
       "      <td>62070621.0</td>\n",
       "      <td>603098</td>\n",
       "      <td>2364</td>\n",
       "      <td>605462</td>\n",
       "      <td>38.490689</td>\n",
       "      <td>50.850444</td>\n",
       "      <td>1573009</td>\n",
       "    </tr>\n",
       "    <tr>\n",
       "      <th>613</th>\n",
       "      <td>Uttar Pradesh</td>\n",
       "      <td>DEORIA</td>\n",
       "      <td>NIYAZ AHMED</td>\n",
       "      <td>0</td>\n",
       "      <td>INC</td>\n",
       "      <td>Hand</td>\n",
       "      <td>MALE</td>\n",
       "      <td>Not Available</td>\n",
       "      <td>57.0</td>\n",
       "      <td>GENERAL</td>\n",
       "      <td>Not Available</td>\n",
       "      <td>0.0</td>\n",
       "      <td>0.0</td>\n",
       "      <td>50749</td>\n",
       "      <td>307</td>\n",
       "      <td>51056</td>\n",
       "      <td>2.910509</td>\n",
       "      <td>5.027196</td>\n",
       "      <td>1754195</td>\n",
       "    </tr>\n",
       "    <tr>\n",
       "      <th>1526</th>\n",
       "      <td>Bihar</td>\n",
       "      <td>NALANDA</td>\n",
       "      <td>Ramvilaf Paswan</td>\n",
       "      <td>0</td>\n",
       "      <td>RAHIS</td>\n",
       "      <td>Tractor Chalata Kisan</td>\n",
       "      <td>MALE</td>\n",
       "      <td>0</td>\n",
       "      <td>61.0</td>\n",
       "      <td>SC</td>\n",
       "      <td>5th Pass</td>\n",
       "      <td>4514580.0</td>\n",
       "      <td>1925.0</td>\n",
       "      <td>21268</td>\n",
       "      <td>8</td>\n",
       "      <td>21276</td>\n",
       "      <td>1.006048</td>\n",
       "      <td>2.061880</td>\n",
       "      <td>2114809</td>\n",
       "    </tr>\n",
       "  </tbody>\n",
       "</table>\n",
       "</div>"
      ],
      "text/plain": [
       "               STATE CONSTITUENCY                           NAME  WINNER  \\\n",
       "1688   Uttar Pradesh   PRATAPGARH               SANGAM LAL GUPTA       1   \n",
       "2105  Andhra Pradesh     TIRUPATI         Balli Durga Prasad Rao       1   \n",
       "1245  Andhra Pradesh      KURNOOL  AYUSHMAN DOCTOR SANJEEV KUMAR       1   \n",
       "613    Uttar Pradesh       DEORIA                    NIYAZ AHMED       0   \n",
       "1526           Bihar      NALANDA                Ramvilaf Paswan       0   \n",
       "\n",
       "      PARTY                 SYMBOL GENDER CRIMINAL\\nCASES   AGE CATEGORY  \\\n",
       "1688    BJP                  Lotus   MALE               2  48.0  GENERAL   \n",
       "2105  YSRCP            Ceiling Fan   MALE               0  63.0       SC   \n",
       "1245  YSRCP            Ceiling Fan   MALE               0  52.0  GENERAL   \n",
       "613     INC                   Hand   MALE   Not Available  57.0  GENERAL   \n",
       "1526  RAHIS  Tractor Chalata Kisan   MALE               0  61.0       SC   \n",
       "\n",
       "                  EDUCATION       ASSETS  LIABILITIES  GENERAL\\nVOTES  \\\n",
       "1688               8th Pass  248789514.0    8895225.0          434222   \n",
       "2105  Graduate Professional   17426921.0          0.0          717924   \n",
       "1245          Post Graduate  325914387.0   62070621.0          603098   \n",
       "613           Not Available          0.0          0.0           50749   \n",
       "1526               5th Pass    4514580.0       1925.0           21268   \n",
       "\n",
       "      POSTAL\\nVOTES  TOTAL\\nVOTES  OVER TOTAL ELECTORS \\nIN CONSTITUENCY  \\\n",
       "1688           2069        436291                              25.532623   \n",
       "2105           4953        722877                              43.798703   \n",
       "1245           2364        605462                              38.490689   \n",
       "613             307         51056                               2.910509   \n",
       "1526              8         21276                               1.006048   \n",
       "\n",
       "      OVER TOTAL VOTES POLLED \\nIN CONSTITUENCY  TOTAL ELECTORS  \n",
       "1688                                  47.668583         1708759  \n",
       "2105                                  54.910127         1650453  \n",
       "1245                                  50.850444         1573009  \n",
       "613                                    5.027196         1754195  \n",
       "1526                                   2.061880         2114809  "
      ]
     },
     "execution_count": 15,
     "metadata": {},
     "output_type": "execute_result"
    }
   ],
   "source": [
    "raw_election_data.sample(5)\n",
    "# check if the applied operations were successful"
   ]
  },
  {
   "cell_type": "markdown",
   "metadata": {},
   "source": [
    "When the data was analysed later, it was found that the following categories in `EDUCATION` column would cause some uncertainities in the visualization process. Hence those are updated here itself, for all subsequent DataFrames."
   ]
  },
  {
   "cell_type": "code",
   "execution_count": 16,
   "metadata": {},
   "outputs": [],
   "source": [
    "raw_election_data.at[raw_election_data.EDUCATION == \"Post Graduate\\n\", \"EDUCATION\"] =  \"Post Graduate\"\n",
    "raw_election_data.at[raw_election_data.EDUCATION == \"Graduate Professional\", \"EDUCATION\"] =  \"Graduate\\nProfessional\""
   ]
  },
  {
   "cell_type": "markdown",
   "metadata": {},
   "source": [
    "These are holes in the data which must be fixed beforehand to avoid errors later."
   ]
  },
  {
   "cell_type": "code",
   "execution_count": 17,
   "metadata": {},
   "outputs": [],
   "source": [
    "raw_election_data.at[192, \"WINNER\"] = 1\n",
    "raw_election_data.at[702, \"WINNER\"] = 1\n",
    "raw_election_data.at[951, \"WINNER\"] = 1\n",
    "raw_election_data.at[1132, \"WINNER\"] = 1\n",
    "raw_election_data.at[172, \"WINNER\"] = 0"
   ]
  },
  {
   "cell_type": "markdown",
   "metadata": {},
   "source": [
    "**Now we drop the unnecessary columns and create a new DataFrame `candidates_df` and change some column names for visualization purposes.**"
   ]
  },
  {
   "cell_type": "code",
   "execution_count": 18,
   "metadata": {},
   "outputs": [
    {
     "data": {
      "text/plain": [
       "Index(['STATE', 'CONSTITUENCY', 'NAME', 'WINNER', 'PARTY', 'SYMBOL', 'GENDER',\n",
       "       'CRIMINAL\\nCASES', 'AGE', 'CATEGORY', 'EDUCATION', 'ASSETS',\n",
       "       'LIABILITIES', 'GENERAL\\nVOTES', 'POSTAL\\nVOTES', 'TOTAL\\nVOTES',\n",
       "       'OVER TOTAL ELECTORS \\nIN CONSTITUENCY',\n",
       "       'OVER TOTAL VOTES POLLED \\nIN CONSTITUENCY', 'TOTAL ELECTORS'],\n",
       "      dtype='object')"
      ]
     },
     "execution_count": 18,
     "metadata": {},
     "output_type": "execute_result"
    }
   ],
   "source": [
    "raw_election_data.columns"
   ]
  },
  {
   "cell_type": "code",
   "execution_count": 19,
   "metadata": {},
   "outputs": [],
   "source": [
    "candidates_df = raw_election_data.drop(['SYMBOL', 'GENERAL\\nVOTES', 'POSTAL\\nVOTES',\n",
    "                        'OVER TOTAL ELECTORS \\nIN CONSTITUENCY', 'OVER TOTAL VOTES POLLED \\nIN CONSTITUENCY'], axis=1)\n",
    "# take out the unnecessary columns"
   ]
  },
  {
   "cell_type": "code",
   "execution_count": 20,
   "metadata": {},
   "outputs": [],
   "source": [
    "candidates_df.rename(columns = {\"CRIMINAL\\nCASES\": \"CRIMINAL CASES\", \"TOTAL\\nVOTES\": \"TOTAL VOTES\"}, inplace = True)\n",
    "candidates_df.sort_values([\"STATE\", \"CONSTITUENCY\"], inplace = True)\n",
    "# rename some of the columns and sort the data with respect to State and Constituency columns"
   ]
  },
  {
   "cell_type": "code",
   "execution_count": 21,
   "metadata": {},
   "outputs": [
    {
     "name": "stdout",
     "output_type": "stream",
     "text": [
      "<class 'pandas.core.frame.DataFrame'>\n",
      "Int64Index: 2263 entries, 105 to 2171\n",
      "Data columns (total 14 columns):\n",
      " #   Column          Non-Null Count  Dtype  \n",
      "---  ------          --------------  -----  \n",
      " 0   STATE           2263 non-null   object \n",
      " 1   CONSTITUENCY    2263 non-null   object \n",
      " 2   NAME            2263 non-null   object \n",
      " 3   WINNER          2263 non-null   int64  \n",
      " 4   PARTY           2263 non-null   object \n",
      " 5   GENDER          2018 non-null   object \n",
      " 6   CRIMINAL CASES  2018 non-null   object \n",
      " 7   AGE             2018 non-null   float64\n",
      " 8   CATEGORY        2018 non-null   object \n",
      " 9   EDUCATION       2018 non-null   object \n",
      " 10  ASSETS          2263 non-null   float64\n",
      " 11  LIABILITIES     2263 non-null   float64\n",
      " 12  TOTAL VOTES     2263 non-null   int64  \n",
      " 13  TOTAL ELECTORS  2263 non-null   int64  \n",
      "dtypes: float64(3), int64(3), object(8)\n",
      "memory usage: 265.2+ KB\n"
     ]
    }
   ],
   "source": [
    "candidates_df.info()"
   ]
  },
  {
   "cell_type": "markdown",
   "metadata": {},
   "source": [
    "Converting the data of `CRIMINAL CASES` column to numeric type."
   ]
  },
  {
   "cell_type": "code",
   "execution_count": 22,
   "metadata": {},
   "outputs": [],
   "source": [
    "candidates_df[\"CRIMINAL CASES\"] = pd.to_numeric(candidates_df[\"CRIMINAL CASES\"], errors = 'coerce').convert_dtypes()"
   ]
  },
  {
   "cell_type": "code",
   "execution_count": 23,
   "metadata": {},
   "outputs": [
    {
     "data": {
      "text/html": [
       "<div>\n",
       "<style scoped>\n",
       "    .dataframe tbody tr th:only-of-type {\n",
       "        vertical-align: middle;\n",
       "    }\n",
       "\n",
       "    .dataframe tbody tr th {\n",
       "        vertical-align: top;\n",
       "    }\n",
       "\n",
       "    .dataframe thead th {\n",
       "        text-align: right;\n",
       "    }\n",
       "</style>\n",
       "<table border=\"1\" class=\"dataframe\">\n",
       "  <thead>\n",
       "    <tr style=\"text-align: right;\">\n",
       "      <th></th>\n",
       "      <th>STATE</th>\n",
       "      <th>CONSTITUENCY</th>\n",
       "      <th>NAME</th>\n",
       "      <th>WINNER</th>\n",
       "      <th>PARTY</th>\n",
       "      <th>GENDER</th>\n",
       "      <th>CRIMINAL CASES</th>\n",
       "      <th>AGE</th>\n",
       "      <th>CATEGORY</th>\n",
       "      <th>EDUCATION</th>\n",
       "      <th>ASSETS</th>\n",
       "      <th>LIABILITIES</th>\n",
       "      <th>TOTAL VOTES</th>\n",
       "      <th>TOTAL ELECTORS</th>\n",
       "    </tr>\n",
       "  </thead>\n",
       "  <tbody>\n",
       "    <tr>\n",
       "      <th>105</th>\n",
       "      <td>Andaman &amp; Nicobar Islands</td>\n",
       "      <td>ANDAMAN &amp; NICOBAR ISLANDS</td>\n",
       "      <td>KULDEEP RAI SHARMA</td>\n",
       "      <td>1</td>\n",
       "      <td>INC</td>\n",
       "      <td>MALE</td>\n",
       "      <td>0</td>\n",
       "      <td>52.0</td>\n",
       "      <td>GENERAL</td>\n",
       "      <td>Graduate\\nProfessional</td>\n",
       "      <td>132233012.0</td>\n",
       "      <td>80450870.0</td>\n",
       "      <td>95308</td>\n",
       "      <td>318471</td>\n",
       "    </tr>\n",
       "    <tr>\n",
       "      <th>106</th>\n",
       "      <td>Andaman &amp; Nicobar Islands</td>\n",
       "      <td>ANDAMAN &amp; NICOBAR ISLANDS</td>\n",
       "      <td>VISHAL JOLLY</td>\n",
       "      <td>0</td>\n",
       "      <td>BJP</td>\n",
       "      <td>MALE</td>\n",
       "      <td>1</td>\n",
       "      <td>46.0</td>\n",
       "      <td>GENERAL</td>\n",
       "      <td>Graduate\\nProfessional</td>\n",
       "      <td>85140573.0</td>\n",
       "      <td>4633914.0</td>\n",
       "      <td>93901</td>\n",
       "      <td>318471</td>\n",
       "    </tr>\n",
       "    <tr>\n",
       "      <th>107</th>\n",
       "      <td>Andaman &amp; Nicobar Islands</td>\n",
       "      <td>ANDAMAN &amp; NICOBAR ISLANDS</td>\n",
       "      <td>PARITOSH KUMAR HALDAR</td>\n",
       "      <td>0</td>\n",
       "      <td>IND</td>\n",
       "      <td>MALE</td>\n",
       "      <td>0</td>\n",
       "      <td>61.0</td>\n",
       "      <td>GENERAL</td>\n",
       "      <td>Post Graduate</td>\n",
       "      <td>19916000.0</td>\n",
       "      <td>1311000.0</td>\n",
       "      <td>5341</td>\n",
       "      <td>318471</td>\n",
       "    </tr>\n",
       "    <tr>\n",
       "      <th>108</th>\n",
       "      <td>Andaman &amp; Nicobar Islands</td>\n",
       "      <td>ANDAMAN &amp; NICOBAR ISLANDS</td>\n",
       "      <td>SANJAY MESHACK</td>\n",
       "      <td>0</td>\n",
       "      <td>AAP</td>\n",
       "      <td>MALE</td>\n",
       "      <td>0</td>\n",
       "      <td>49.0</td>\n",
       "      <td>GENERAL</td>\n",
       "      <td>12th Pass</td>\n",
       "      <td>99887782.0</td>\n",
       "      <td>1791076.0</td>\n",
       "      <td>2839</td>\n",
       "      <td>318471</td>\n",
       "    </tr>\n",
       "    <tr>\n",
       "      <th>109</th>\n",
       "      <td>Andaman &amp; Nicobar Islands</td>\n",
       "      <td>ANDAMAN &amp; NICOBAR ISLANDS</td>\n",
       "      <td>PRAKASH MINJ</td>\n",
       "      <td>0</td>\n",
       "      <td>BSP</td>\n",
       "      <td>MALE</td>\n",
       "      <td>0</td>\n",
       "      <td>43.0</td>\n",
       "      <td>SC</td>\n",
       "      <td>Post Graduate</td>\n",
       "      <td>1250000.0</td>\n",
       "      <td>240000.0</td>\n",
       "      <td>2486</td>\n",
       "      <td>318471</td>\n",
       "    </tr>\n",
       "    <tr>\n",
       "      <th>...</th>\n",
       "      <td>...</td>\n",
       "      <td>...</td>\n",
       "      <td>...</td>\n",
       "      <td>...</td>\n",
       "      <td>...</td>\n",
       "      <td>...</td>\n",
       "      <td>...</td>\n",
       "      <td>...</td>\n",
       "      <td>...</td>\n",
       "      <td>...</td>\n",
       "      <td>...</td>\n",
       "      <td>...</td>\n",
       "      <td>...</td>\n",
       "      <td>...</td>\n",
       "    </tr>\n",
       "    <tr>\n",
       "      <th>2042</th>\n",
       "      <td>West Bengal</td>\n",
       "      <td>TAMLUK</td>\n",
       "      <td>Lakshman Chandra Seth</td>\n",
       "      <td>0</td>\n",
       "      <td>INC</td>\n",
       "      <td>MALE</td>\n",
       "      <td>5</td>\n",
       "      <td>73.0</td>\n",
       "      <td>SC</td>\n",
       "      <td>Doctorate</td>\n",
       "      <td>2045953.0</td>\n",
       "      <td>0.0</td>\n",
       "      <td>16001</td>\n",
       "      <td>1694646</td>\n",
       "    </tr>\n",
       "    <tr>\n",
       "      <th>2168</th>\n",
       "      <td>West Bengal</td>\n",
       "      <td>ULUBERIA</td>\n",
       "      <td>SAJDA AHMED</td>\n",
       "      <td>1</td>\n",
       "      <td>AITC</td>\n",
       "      <td>FEMALE</td>\n",
       "      <td>0</td>\n",
       "      <td>57.0</td>\n",
       "      <td>GENERAL</td>\n",
       "      <td>Graduate</td>\n",
       "      <td>28351569.0</td>\n",
       "      <td>5322615.0</td>\n",
       "      <td>694945</td>\n",
       "      <td>1614988</td>\n",
       "    </tr>\n",
       "    <tr>\n",
       "      <th>2169</th>\n",
       "      <td>West Bengal</td>\n",
       "      <td>ULUBERIA</td>\n",
       "      <td>JOY BANERJEE</td>\n",
       "      <td>0</td>\n",
       "      <td>BJP</td>\n",
       "      <td>MALE</td>\n",
       "      <td>2</td>\n",
       "      <td>56.0</td>\n",
       "      <td>GENERAL</td>\n",
       "      <td>Graduate</td>\n",
       "      <td>246933.0</td>\n",
       "      <td>0.0</td>\n",
       "      <td>479586</td>\n",
       "      <td>1614988</td>\n",
       "    </tr>\n",
       "    <tr>\n",
       "      <th>2170</th>\n",
       "      <td>West Bengal</td>\n",
       "      <td>ULUBERIA</td>\n",
       "      <td>MAKSUDA KHATUN</td>\n",
       "      <td>0</td>\n",
       "      <td>CPI(M)</td>\n",
       "      <td>FEMALE</td>\n",
       "      <td>0</td>\n",
       "      <td>58.0</td>\n",
       "      <td>GENERAL</td>\n",
       "      <td>Doctorate</td>\n",
       "      <td>12578736.0</td>\n",
       "      <td>2876353.0</td>\n",
       "      <td>81314</td>\n",
       "      <td>1614988</td>\n",
       "    </tr>\n",
       "    <tr>\n",
       "      <th>2171</th>\n",
       "      <td>West Bengal</td>\n",
       "      <td>ULUBERIA</td>\n",
       "      <td>Shoma Ranisree Roy</td>\n",
       "      <td>0</td>\n",
       "      <td>INC</td>\n",
       "      <td>FEMALE</td>\n",
       "      <td>0</td>\n",
       "      <td>40.0</td>\n",
       "      <td>GENERAL</td>\n",
       "      <td>Post Graduate</td>\n",
       "      <td>5400000.0</td>\n",
       "      <td>0.0</td>\n",
       "      <td>27568</td>\n",
       "      <td>1614988</td>\n",
       "    </tr>\n",
       "  </tbody>\n",
       "</table>\n",
       "<p>2263 rows × 14 columns</p>\n",
       "</div>"
      ],
      "text/plain": [
       "                          STATE               CONSTITUENCY  \\\n",
       "105   Andaman & Nicobar Islands  ANDAMAN & NICOBAR ISLANDS   \n",
       "106   Andaman & Nicobar Islands  ANDAMAN & NICOBAR ISLANDS   \n",
       "107   Andaman & Nicobar Islands  ANDAMAN & NICOBAR ISLANDS   \n",
       "108   Andaman & Nicobar Islands  ANDAMAN & NICOBAR ISLANDS   \n",
       "109   Andaman & Nicobar Islands  ANDAMAN & NICOBAR ISLANDS   \n",
       "...                         ...                        ...   \n",
       "2042                West Bengal                     TAMLUK   \n",
       "2168                West Bengal                   ULUBERIA   \n",
       "2169                West Bengal                   ULUBERIA   \n",
       "2170                West Bengal                   ULUBERIA   \n",
       "2171                West Bengal                   ULUBERIA   \n",
       "\n",
       "                       NAME  WINNER   PARTY  GENDER  CRIMINAL CASES   AGE  \\\n",
       "105      KULDEEP RAI SHARMA       1     INC    MALE               0  52.0   \n",
       "106            VISHAL JOLLY       0     BJP    MALE               1  46.0   \n",
       "107   PARITOSH KUMAR HALDAR       0     IND    MALE               0  61.0   \n",
       "108          SANJAY MESHACK       0     AAP    MALE               0  49.0   \n",
       "109            PRAKASH MINJ       0     BSP    MALE               0  43.0   \n",
       "...                     ...     ...     ...     ...             ...   ...   \n",
       "2042  Lakshman Chandra Seth       0     INC    MALE               5  73.0   \n",
       "2168            SAJDA AHMED       1    AITC  FEMALE               0  57.0   \n",
       "2169           JOY BANERJEE       0     BJP    MALE               2  56.0   \n",
       "2170         MAKSUDA KHATUN       0  CPI(M)  FEMALE               0  58.0   \n",
       "2171     Shoma Ranisree Roy       0     INC  FEMALE               0  40.0   \n",
       "\n",
       "     CATEGORY               EDUCATION       ASSETS  LIABILITIES  TOTAL VOTES  \\\n",
       "105   GENERAL  Graduate\\nProfessional  132233012.0   80450870.0        95308   \n",
       "106   GENERAL  Graduate\\nProfessional   85140573.0    4633914.0        93901   \n",
       "107   GENERAL           Post Graduate   19916000.0    1311000.0         5341   \n",
       "108   GENERAL               12th Pass   99887782.0    1791076.0         2839   \n",
       "109        SC           Post Graduate    1250000.0     240000.0         2486   \n",
       "...       ...                     ...          ...          ...          ...   \n",
       "2042       SC               Doctorate    2045953.0          0.0        16001   \n",
       "2168  GENERAL                Graduate   28351569.0    5322615.0       694945   \n",
       "2169  GENERAL                Graduate     246933.0          0.0       479586   \n",
       "2170  GENERAL               Doctorate   12578736.0    2876353.0        81314   \n",
       "2171  GENERAL           Post Graduate    5400000.0          0.0        27568   \n",
       "\n",
       "      TOTAL ELECTORS  \n",
       "105           318471  \n",
       "106           318471  \n",
       "107           318471  \n",
       "108           318471  \n",
       "109           318471  \n",
       "...              ...  \n",
       "2042         1694646  \n",
       "2168         1614988  \n",
       "2169         1614988  \n",
       "2170         1614988  \n",
       "2171         1614988  \n",
       "\n",
       "[2263 rows x 14 columns]"
      ]
     },
     "execution_count": 23,
     "metadata": {},
     "output_type": "execute_result"
    }
   ],
   "source": [
    "candidates_df"
   ]
  },
  {
   "cell_type": "markdown",
   "metadata": {},
   "source": [
    " **Some more editing is done, and only the personal details of non-NOTA candidates is extracted and stored in a new DataFrame `candidates_personal_df`.**"
   ]
  },
  {
   "cell_type": "code",
   "execution_count": 24,
   "metadata": {},
   "outputs": [],
   "source": [
    "candidates_personal_df = candidates_df[candidates_df.NAME != \"NOTA\"]"
   ]
  },
  {
   "cell_type": "code",
   "execution_count": 25,
   "metadata": {},
   "outputs": [],
   "source": [
    "candidates_personal_df = candidates_personal_df.drop([\"TOTAL VOTES\", \"TOTAL ELECTORS\"], axis = 1)"
   ]
  },
  {
   "cell_type": "code",
   "execution_count": 26,
   "metadata": {},
   "outputs": [
    {
     "data": {
      "text/html": [
       "<div>\n",
       "<style scoped>\n",
       "    .dataframe tbody tr th:only-of-type {\n",
       "        vertical-align: middle;\n",
       "    }\n",
       "\n",
       "    .dataframe tbody tr th {\n",
       "        vertical-align: top;\n",
       "    }\n",
       "\n",
       "    .dataframe thead th {\n",
       "        text-align: right;\n",
       "    }\n",
       "</style>\n",
       "<table border=\"1\" class=\"dataframe\">\n",
       "  <thead>\n",
       "    <tr style=\"text-align: right;\">\n",
       "      <th></th>\n",
       "      <th>STATE</th>\n",
       "      <th>CONSTITUENCY</th>\n",
       "      <th>NAME</th>\n",
       "      <th>WINNER</th>\n",
       "      <th>PARTY</th>\n",
       "      <th>GENDER</th>\n",
       "      <th>CRIMINAL CASES</th>\n",
       "      <th>AGE</th>\n",
       "      <th>CATEGORY</th>\n",
       "      <th>EDUCATION</th>\n",
       "      <th>ASSETS</th>\n",
       "      <th>LIABILITIES</th>\n",
       "    </tr>\n",
       "  </thead>\n",
       "  <tbody>\n",
       "    <tr>\n",
       "      <th>105</th>\n",
       "      <td>Andaman &amp; Nicobar Islands</td>\n",
       "      <td>ANDAMAN &amp; NICOBAR ISLANDS</td>\n",
       "      <td>KULDEEP RAI SHARMA</td>\n",
       "      <td>1</td>\n",
       "      <td>INC</td>\n",
       "      <td>MALE</td>\n",
       "      <td>0</td>\n",
       "      <td>52.0</td>\n",
       "      <td>GENERAL</td>\n",
       "      <td>Graduate\\nProfessional</td>\n",
       "      <td>132233012.0</td>\n",
       "      <td>80450870.0</td>\n",
       "    </tr>\n",
       "    <tr>\n",
       "      <th>106</th>\n",
       "      <td>Andaman &amp; Nicobar Islands</td>\n",
       "      <td>ANDAMAN &amp; NICOBAR ISLANDS</td>\n",
       "      <td>VISHAL JOLLY</td>\n",
       "      <td>0</td>\n",
       "      <td>BJP</td>\n",
       "      <td>MALE</td>\n",
       "      <td>1</td>\n",
       "      <td>46.0</td>\n",
       "      <td>GENERAL</td>\n",
       "      <td>Graduate\\nProfessional</td>\n",
       "      <td>85140573.0</td>\n",
       "      <td>4633914.0</td>\n",
       "    </tr>\n",
       "    <tr>\n",
       "      <th>107</th>\n",
       "      <td>Andaman &amp; Nicobar Islands</td>\n",
       "      <td>ANDAMAN &amp; NICOBAR ISLANDS</td>\n",
       "      <td>PARITOSH KUMAR HALDAR</td>\n",
       "      <td>0</td>\n",
       "      <td>IND</td>\n",
       "      <td>MALE</td>\n",
       "      <td>0</td>\n",
       "      <td>61.0</td>\n",
       "      <td>GENERAL</td>\n",
       "      <td>Post Graduate</td>\n",
       "      <td>19916000.0</td>\n",
       "      <td>1311000.0</td>\n",
       "    </tr>\n",
       "    <tr>\n",
       "      <th>108</th>\n",
       "      <td>Andaman &amp; Nicobar Islands</td>\n",
       "      <td>ANDAMAN &amp; NICOBAR ISLANDS</td>\n",
       "      <td>SANJAY MESHACK</td>\n",
       "      <td>0</td>\n",
       "      <td>AAP</td>\n",
       "      <td>MALE</td>\n",
       "      <td>0</td>\n",
       "      <td>49.0</td>\n",
       "      <td>GENERAL</td>\n",
       "      <td>12th Pass</td>\n",
       "      <td>99887782.0</td>\n",
       "      <td>1791076.0</td>\n",
       "    </tr>\n",
       "    <tr>\n",
       "      <th>109</th>\n",
       "      <td>Andaman &amp; Nicobar Islands</td>\n",
       "      <td>ANDAMAN &amp; NICOBAR ISLANDS</td>\n",
       "      <td>PRAKASH MINJ</td>\n",
       "      <td>0</td>\n",
       "      <td>BSP</td>\n",
       "      <td>MALE</td>\n",
       "      <td>0</td>\n",
       "      <td>43.0</td>\n",
       "      <td>SC</td>\n",
       "      <td>Post Graduate</td>\n",
       "      <td>1250000.0</td>\n",
       "      <td>240000.0</td>\n",
       "    </tr>\n",
       "    <tr>\n",
       "      <th>...</th>\n",
       "      <td>...</td>\n",
       "      <td>...</td>\n",
       "      <td>...</td>\n",
       "      <td>...</td>\n",
       "      <td>...</td>\n",
       "      <td>...</td>\n",
       "      <td>...</td>\n",
       "      <td>...</td>\n",
       "      <td>...</td>\n",
       "      <td>...</td>\n",
       "      <td>...</td>\n",
       "      <td>...</td>\n",
       "    </tr>\n",
       "    <tr>\n",
       "      <th>2042</th>\n",
       "      <td>West Bengal</td>\n",
       "      <td>TAMLUK</td>\n",
       "      <td>Lakshman Chandra Seth</td>\n",
       "      <td>0</td>\n",
       "      <td>INC</td>\n",
       "      <td>MALE</td>\n",
       "      <td>5</td>\n",
       "      <td>73.0</td>\n",
       "      <td>SC</td>\n",
       "      <td>Doctorate</td>\n",
       "      <td>2045953.0</td>\n",
       "      <td>0.0</td>\n",
       "    </tr>\n",
       "    <tr>\n",
       "      <th>2168</th>\n",
       "      <td>West Bengal</td>\n",
       "      <td>ULUBERIA</td>\n",
       "      <td>SAJDA AHMED</td>\n",
       "      <td>1</td>\n",
       "      <td>AITC</td>\n",
       "      <td>FEMALE</td>\n",
       "      <td>0</td>\n",
       "      <td>57.0</td>\n",
       "      <td>GENERAL</td>\n",
       "      <td>Graduate</td>\n",
       "      <td>28351569.0</td>\n",
       "      <td>5322615.0</td>\n",
       "    </tr>\n",
       "    <tr>\n",
       "      <th>2169</th>\n",
       "      <td>West Bengal</td>\n",
       "      <td>ULUBERIA</td>\n",
       "      <td>JOY BANERJEE</td>\n",
       "      <td>0</td>\n",
       "      <td>BJP</td>\n",
       "      <td>MALE</td>\n",
       "      <td>2</td>\n",
       "      <td>56.0</td>\n",
       "      <td>GENERAL</td>\n",
       "      <td>Graduate</td>\n",
       "      <td>246933.0</td>\n",
       "      <td>0.0</td>\n",
       "    </tr>\n",
       "    <tr>\n",
       "      <th>2170</th>\n",
       "      <td>West Bengal</td>\n",
       "      <td>ULUBERIA</td>\n",
       "      <td>MAKSUDA KHATUN</td>\n",
       "      <td>0</td>\n",
       "      <td>CPI(M)</td>\n",
       "      <td>FEMALE</td>\n",
       "      <td>0</td>\n",
       "      <td>58.0</td>\n",
       "      <td>GENERAL</td>\n",
       "      <td>Doctorate</td>\n",
       "      <td>12578736.0</td>\n",
       "      <td>2876353.0</td>\n",
       "    </tr>\n",
       "    <tr>\n",
       "      <th>2171</th>\n",
       "      <td>West Bengal</td>\n",
       "      <td>ULUBERIA</td>\n",
       "      <td>Shoma Ranisree Roy</td>\n",
       "      <td>0</td>\n",
       "      <td>INC</td>\n",
       "      <td>FEMALE</td>\n",
       "      <td>0</td>\n",
       "      <td>40.0</td>\n",
       "      <td>GENERAL</td>\n",
       "      <td>Post Graduate</td>\n",
       "      <td>5400000.0</td>\n",
       "      <td>0.0</td>\n",
       "    </tr>\n",
       "  </tbody>\n",
       "</table>\n",
       "<p>2018 rows × 12 columns</p>\n",
       "</div>"
      ],
      "text/plain": [
       "                          STATE               CONSTITUENCY  \\\n",
       "105   Andaman & Nicobar Islands  ANDAMAN & NICOBAR ISLANDS   \n",
       "106   Andaman & Nicobar Islands  ANDAMAN & NICOBAR ISLANDS   \n",
       "107   Andaman & Nicobar Islands  ANDAMAN & NICOBAR ISLANDS   \n",
       "108   Andaman & Nicobar Islands  ANDAMAN & NICOBAR ISLANDS   \n",
       "109   Andaman & Nicobar Islands  ANDAMAN & NICOBAR ISLANDS   \n",
       "...                         ...                        ...   \n",
       "2042                West Bengal                     TAMLUK   \n",
       "2168                West Bengal                   ULUBERIA   \n",
       "2169                West Bengal                   ULUBERIA   \n",
       "2170                West Bengal                   ULUBERIA   \n",
       "2171                West Bengal                   ULUBERIA   \n",
       "\n",
       "                       NAME  WINNER   PARTY  GENDER  CRIMINAL CASES   AGE  \\\n",
       "105      KULDEEP RAI SHARMA       1     INC    MALE               0  52.0   \n",
       "106            VISHAL JOLLY       0     BJP    MALE               1  46.0   \n",
       "107   PARITOSH KUMAR HALDAR       0     IND    MALE               0  61.0   \n",
       "108          SANJAY MESHACK       0     AAP    MALE               0  49.0   \n",
       "109            PRAKASH MINJ       0     BSP    MALE               0  43.0   \n",
       "...                     ...     ...     ...     ...             ...   ...   \n",
       "2042  Lakshman Chandra Seth       0     INC    MALE               5  73.0   \n",
       "2168            SAJDA AHMED       1    AITC  FEMALE               0  57.0   \n",
       "2169           JOY BANERJEE       0     BJP    MALE               2  56.0   \n",
       "2170         MAKSUDA KHATUN       0  CPI(M)  FEMALE               0  58.0   \n",
       "2171     Shoma Ranisree Roy       0     INC  FEMALE               0  40.0   \n",
       "\n",
       "     CATEGORY               EDUCATION       ASSETS  LIABILITIES  \n",
       "105   GENERAL  Graduate\\nProfessional  132233012.0   80450870.0  \n",
       "106   GENERAL  Graduate\\nProfessional   85140573.0    4633914.0  \n",
       "107   GENERAL           Post Graduate   19916000.0    1311000.0  \n",
       "108   GENERAL               12th Pass   99887782.0    1791076.0  \n",
       "109        SC           Post Graduate    1250000.0     240000.0  \n",
       "...       ...                     ...          ...          ...  \n",
       "2042       SC               Doctorate    2045953.0          0.0  \n",
       "2168  GENERAL                Graduate   28351569.0    5322615.0  \n",
       "2169  GENERAL                Graduate     246933.0          0.0  \n",
       "2170  GENERAL               Doctorate   12578736.0    2876353.0  \n",
       "2171  GENERAL           Post Graduate    5400000.0          0.0  \n",
       "\n",
       "[2018 rows x 12 columns]"
      ]
     },
     "execution_count": 26,
     "metadata": {},
     "output_type": "execute_result"
    }
   ],
   "source": [
    "candidates_personal_df"
   ]
  },
  {
   "cell_type": "code",
   "execution_count": 27,
   "metadata": {},
   "outputs": [
    {
     "data": {
      "text/html": [
       "<div>\n",
       "<style scoped>\n",
       "    .dataframe tbody tr th:only-of-type {\n",
       "        vertical-align: middle;\n",
       "    }\n",
       "\n",
       "    .dataframe tbody tr th {\n",
       "        vertical-align: top;\n",
       "    }\n",
       "\n",
       "    .dataframe thead th {\n",
       "        text-align: right;\n",
       "    }\n",
       "</style>\n",
       "<table border=\"1\" class=\"dataframe\">\n",
       "  <thead>\n",
       "    <tr style=\"text-align: right;\">\n",
       "      <th></th>\n",
       "      <th>WINNER</th>\n",
       "      <th>CRIMINAL CASES</th>\n",
       "      <th>AGE</th>\n",
       "      <th>ASSETS</th>\n",
       "      <th>LIABILITIES</th>\n",
       "    </tr>\n",
       "  </thead>\n",
       "  <tbody>\n",
       "    <tr>\n",
       "      <th>count</th>\n",
       "      <td>2018.000000</td>\n",
       "      <td>1996.000000</td>\n",
       "      <td>2018.000000</td>\n",
       "      <td>2.018000e+03</td>\n",
       "      <td>2.018000e+03</td>\n",
       "    </tr>\n",
       "    <tr>\n",
       "      <th>mean</th>\n",
       "      <td>0.268583</td>\n",
       "      <td>1.469940</td>\n",
       "      <td>52.273538</td>\n",
       "      <td>1.315849e+08</td>\n",
       "      <td>1.973860e+07</td>\n",
       "    </tr>\n",
       "    <tr>\n",
       "      <th>std</th>\n",
       "      <td>0.443332</td>\n",
       "      <td>7.677432</td>\n",
       "      <td>11.869373</td>\n",
       "      <td>4.122697e+08</td>\n",
       "      <td>8.945292e+07</td>\n",
       "    </tr>\n",
       "    <tr>\n",
       "      <th>min</th>\n",
       "      <td>0.000000</td>\n",
       "      <td>0.000000</td>\n",
       "      <td>25.000000</td>\n",
       "      <td>0.000000e+00</td>\n",
       "      <td>0.000000e+00</td>\n",
       "    </tr>\n",
       "    <tr>\n",
       "      <th>25%</th>\n",
       "      <td>0.000000</td>\n",
       "      <td>0.000000</td>\n",
       "      <td>43.250000</td>\n",
       "      <td>6.272526e+06</td>\n",
       "      <td>0.000000e+00</td>\n",
       "    </tr>\n",
       "    <tr>\n",
       "      <th>50%</th>\n",
       "      <td>0.000000</td>\n",
       "      <td>0.000000</td>\n",
       "      <td>52.000000</td>\n",
       "      <td>2.404181e+07</td>\n",
       "      <td>9.039245e+05</td>\n",
       "    </tr>\n",
       "    <tr>\n",
       "      <th>75%</th>\n",
       "      <td>1.000000</td>\n",
       "      <td>1.000000</td>\n",
       "      <td>61.000000</td>\n",
       "      <td>9.152498e+07</td>\n",
       "      <td>6.097971e+06</td>\n",
       "    </tr>\n",
       "    <tr>\n",
       "      <th>max</th>\n",
       "      <td>1.000000</td>\n",
       "      <td>240.000000</td>\n",
       "      <td>86.000000</td>\n",
       "      <td>8.950179e+09</td>\n",
       "      <td>1.547511e+09</td>\n",
       "    </tr>\n",
       "  </tbody>\n",
       "</table>\n",
       "</div>"
      ],
      "text/plain": [
       "            WINNER  CRIMINAL CASES          AGE        ASSETS   LIABILITIES\n",
       "count  2018.000000     1996.000000  2018.000000  2.018000e+03  2.018000e+03\n",
       "mean      0.268583        1.469940    52.273538  1.315849e+08  1.973860e+07\n",
       "std       0.443332        7.677432    11.869373  4.122697e+08  8.945292e+07\n",
       "min       0.000000        0.000000    25.000000  0.000000e+00  0.000000e+00\n",
       "25%       0.000000        0.000000    43.250000  6.272526e+06  0.000000e+00\n",
       "50%       0.000000        0.000000    52.000000  2.404181e+07  9.039245e+05\n",
       "75%       1.000000        1.000000    61.000000  9.152498e+07  6.097971e+06\n",
       "max       1.000000      240.000000    86.000000  8.950179e+09  1.547511e+09"
      ]
     },
     "execution_count": 27,
     "metadata": {},
     "output_type": "execute_result"
    }
   ],
   "source": [
    "candidates_personal_df.describe()\n",
    "# works on only numeric data"
   ]
  },
  {
   "cell_type": "markdown",
   "metadata": {},
   "source": [
    "**Another DataFrame `winners_df` is created which contains the details of only the winning candidates.**\n",
    "<br>Some operations are performed to shape the DataFrame as required."
   ]
  },
  {
   "cell_type": "code",
   "execution_count": 28,
   "metadata": {},
   "outputs": [],
   "source": [
    "winners_df = candidates_df[candidates_df.WINNER == 1].sort_values([\"STATE\", \"CONSTITUENCY\"]).reset_index()\n",
    "# extract the list of winners"
   ]
  },
  {
   "cell_type": "code",
   "execution_count": 29,
   "metadata": {},
   "outputs": [],
   "source": [
    "winners_df.drop([\"index\", \"WINNER\"], axis = 1, inplace = True)"
   ]
  },
  {
   "cell_type": "code",
   "execution_count": 30,
   "metadata": {},
   "outputs": [
    {
     "data": {
      "text/html": [
       "<div>\n",
       "<style scoped>\n",
       "    .dataframe tbody tr th:only-of-type {\n",
       "        vertical-align: middle;\n",
       "    }\n",
       "\n",
       "    .dataframe tbody tr th {\n",
       "        vertical-align: top;\n",
       "    }\n",
       "\n",
       "    .dataframe thead th {\n",
       "        text-align: right;\n",
       "    }\n",
       "</style>\n",
       "<table border=\"1\" class=\"dataframe\">\n",
       "  <thead>\n",
       "    <tr style=\"text-align: right;\">\n",
       "      <th></th>\n",
       "      <th>STATE</th>\n",
       "      <th>CONSTITUENCY</th>\n",
       "      <th>NAME</th>\n",
       "      <th>PARTY</th>\n",
       "      <th>GENDER</th>\n",
       "      <th>CRIMINAL CASES</th>\n",
       "      <th>AGE</th>\n",
       "      <th>CATEGORY</th>\n",
       "      <th>EDUCATION</th>\n",
       "      <th>ASSETS</th>\n",
       "      <th>LIABILITIES</th>\n",
       "      <th>TOTAL VOTES</th>\n",
       "      <th>TOTAL ELECTORS</th>\n",
       "    </tr>\n",
       "  </thead>\n",
       "  <tbody>\n",
       "    <tr>\n",
       "      <th>0</th>\n",
       "      <td>Andaman &amp; Nicobar Islands</td>\n",
       "      <td>ANDAMAN &amp; NICOBAR ISLANDS</td>\n",
       "      <td>KULDEEP RAI SHARMA</td>\n",
       "      <td>INC</td>\n",
       "      <td>MALE</td>\n",
       "      <td>0</td>\n",
       "      <td>52.0</td>\n",
       "      <td>GENERAL</td>\n",
       "      <td>Graduate\\nProfessional</td>\n",
       "      <td>132233012.0</td>\n",
       "      <td>80450870.0</td>\n",
       "      <td>95308</td>\n",
       "      <td>318471</td>\n",
       "    </tr>\n",
       "    <tr>\n",
       "      <th>1</th>\n",
       "      <td>Andhra Pradesh</td>\n",
       "      <td>AMALAPURAM</td>\n",
       "      <td>CHINTA ANURADHA</td>\n",
       "      <td>YSRCP</td>\n",
       "      <td>FEMALE</td>\n",
       "      <td>0</td>\n",
       "      <td>46.0</td>\n",
       "      <td>SC</td>\n",
       "      <td>Graduate</td>\n",
       "      <td>85993362.0</td>\n",
       "      <td>2431407.0</td>\n",
       "      <td>485958</td>\n",
       "      <td>1459556</td>\n",
       "    </tr>\n",
       "    <tr>\n",
       "      <th>2</th>\n",
       "      <td>Andhra Pradesh</td>\n",
       "      <td>ANAKAPALLI</td>\n",
       "      <td>Dr.Beesetti Venkata Satyavathi</td>\n",
       "      <td>YSRCP</td>\n",
       "      <td>FEMALE</td>\n",
       "      <td>0</td>\n",
       "      <td>52.0</td>\n",
       "      <td>GENERAL</td>\n",
       "      <td>Graduate\\nProfessional</td>\n",
       "      <td>91526244.0</td>\n",
       "      <td>11139279.0</td>\n",
       "      <td>586226</td>\n",
       "      <td>1521363</td>\n",
       "    </tr>\n",
       "    <tr>\n",
       "      <th>3</th>\n",
       "      <td>Andhra Pradesh</td>\n",
       "      <td>ANANTAPUR</td>\n",
       "      <td>TALARI RANGAIAH</td>\n",
       "      <td>YSRCP</td>\n",
       "      <td>MALE</td>\n",
       "      <td>2</td>\n",
       "      <td>48.0</td>\n",
       "      <td>GENERAL</td>\n",
       "      <td>Doctorate</td>\n",
       "      <td>11773091.0</td>\n",
       "      <td>1135547.0</td>\n",
       "      <td>695208</td>\n",
       "      <td>1664160</td>\n",
       "    </tr>\n",
       "    <tr>\n",
       "      <th>4</th>\n",
       "      <td>Andhra Pradesh</td>\n",
       "      <td>ARUKU</td>\n",
       "      <td>GODDETI. MADHAVI</td>\n",
       "      <td>YSRCP</td>\n",
       "      <td>FEMALE</td>\n",
       "      <td>0</td>\n",
       "      <td>26.0</td>\n",
       "      <td>ST</td>\n",
       "      <td>Graduate\\nProfessional</td>\n",
       "      <td>141179.0</td>\n",
       "      <td>0.0</td>\n",
       "      <td>562190</td>\n",
       "      <td>1451418</td>\n",
       "    </tr>\n",
       "    <tr>\n",
       "      <th>...</th>\n",
       "      <td>...</td>\n",
       "      <td>...</td>\n",
       "      <td>...</td>\n",
       "      <td>...</td>\n",
       "      <td>...</td>\n",
       "      <td>...</td>\n",
       "      <td>...</td>\n",
       "      <td>...</td>\n",
       "      <td>...</td>\n",
       "      <td>...</td>\n",
       "      <td>...</td>\n",
       "      <td>...</td>\n",
       "      <td>...</td>\n",
       "    </tr>\n",
       "    <tr>\n",
       "      <th>537</th>\n",
       "      <td>West Bengal</td>\n",
       "      <td>RAIGANJ</td>\n",
       "      <td>DEBASREE CHAUDHURI</td>\n",
       "      <td>BJP</td>\n",
       "      <td>FEMALE</td>\n",
       "      <td>2</td>\n",
       "      <td>48.0</td>\n",
       "      <td>GENERAL</td>\n",
       "      <td>Post Graduate</td>\n",
       "      <td>6139123.0</td>\n",
       "      <td>823416.0</td>\n",
       "      <td>511652</td>\n",
       "      <td>1601220</td>\n",
       "    </tr>\n",
       "    <tr>\n",
       "      <th>538</th>\n",
       "      <td>West Bengal</td>\n",
       "      <td>RANAGHAT</td>\n",
       "      <td>JAGANNATH SARKAR</td>\n",
       "      <td>BJP</td>\n",
       "      <td>MALE</td>\n",
       "      <td>1</td>\n",
       "      <td>56.0</td>\n",
       "      <td>SC</td>\n",
       "      <td>Graduate\\nProfessional</td>\n",
       "      <td>17622476.0</td>\n",
       "      <td>0.0</td>\n",
       "      <td>783253</td>\n",
       "      <td>1762252</td>\n",
       "    </tr>\n",
       "    <tr>\n",
       "      <th>539</th>\n",
       "      <td>West Bengal</td>\n",
       "      <td>SRERAMPUR</td>\n",
       "      <td>KALYAN BANERJEE</td>\n",
       "      <td>AITC</td>\n",
       "      <td>MALE</td>\n",
       "      <td>0</td>\n",
       "      <td>62.0</td>\n",
       "      <td>GENERAL</td>\n",
       "      <td>Graduate\\nProfessional</td>\n",
       "      <td>175968902.0</td>\n",
       "      <td>5522403.0</td>\n",
       "      <td>637707</td>\n",
       "      <td>1785472</td>\n",
       "    </tr>\n",
       "    <tr>\n",
       "      <th>540</th>\n",
       "      <td>West Bengal</td>\n",
       "      <td>TAMLUK</td>\n",
       "      <td>Adhikari Dibyendu</td>\n",
       "      <td>AITC</td>\n",
       "      <td>MALE</td>\n",
       "      <td>1</td>\n",
       "      <td>42.0</td>\n",
       "      <td>GENERAL</td>\n",
       "      <td>Graduate</td>\n",
       "      <td>37687867.0</td>\n",
       "      <td>8397501.0</td>\n",
       "      <td>724433</td>\n",
       "      <td>1694646</td>\n",
       "    </tr>\n",
       "    <tr>\n",
       "      <th>541</th>\n",
       "      <td>West Bengal</td>\n",
       "      <td>ULUBERIA</td>\n",
       "      <td>SAJDA AHMED</td>\n",
       "      <td>AITC</td>\n",
       "      <td>FEMALE</td>\n",
       "      <td>0</td>\n",
       "      <td>57.0</td>\n",
       "      <td>GENERAL</td>\n",
       "      <td>Graduate</td>\n",
       "      <td>28351569.0</td>\n",
       "      <td>5322615.0</td>\n",
       "      <td>694945</td>\n",
       "      <td>1614988</td>\n",
       "    </tr>\n",
       "  </tbody>\n",
       "</table>\n",
       "<p>542 rows × 13 columns</p>\n",
       "</div>"
      ],
      "text/plain": [
       "                         STATE               CONSTITUENCY  \\\n",
       "0    Andaman & Nicobar Islands  ANDAMAN & NICOBAR ISLANDS   \n",
       "1               Andhra Pradesh                 AMALAPURAM   \n",
       "2               Andhra Pradesh                 ANAKAPALLI   \n",
       "3               Andhra Pradesh                  ANANTAPUR   \n",
       "4               Andhra Pradesh                      ARUKU   \n",
       "..                         ...                        ...   \n",
       "537                West Bengal                    RAIGANJ   \n",
       "538                West Bengal                   RANAGHAT   \n",
       "539                West Bengal                  SRERAMPUR   \n",
       "540                West Bengal                     TAMLUK   \n",
       "541                West Bengal                   ULUBERIA   \n",
       "\n",
       "                               NAME  PARTY  GENDER  CRIMINAL CASES   AGE  \\\n",
       "0                KULDEEP RAI SHARMA    INC    MALE               0  52.0   \n",
       "1                   CHINTA ANURADHA  YSRCP  FEMALE               0  46.0   \n",
       "2    Dr.Beesetti Venkata Satyavathi  YSRCP  FEMALE               0  52.0   \n",
       "3                   TALARI RANGAIAH  YSRCP    MALE               2  48.0   \n",
       "4                  GODDETI. MADHAVI  YSRCP  FEMALE               0  26.0   \n",
       "..                              ...    ...     ...             ...   ...   \n",
       "537              DEBASREE CHAUDHURI    BJP  FEMALE               2  48.0   \n",
       "538                JAGANNATH SARKAR    BJP    MALE               1  56.0   \n",
       "539                 KALYAN BANERJEE   AITC    MALE               0  62.0   \n",
       "540               Adhikari Dibyendu   AITC    MALE               1  42.0   \n",
       "541                     SAJDA AHMED   AITC  FEMALE               0  57.0   \n",
       "\n",
       "    CATEGORY               EDUCATION       ASSETS  LIABILITIES  TOTAL VOTES  \\\n",
       "0    GENERAL  Graduate\\nProfessional  132233012.0   80450870.0        95308   \n",
       "1         SC                Graduate   85993362.0    2431407.0       485958   \n",
       "2    GENERAL  Graduate\\nProfessional   91526244.0   11139279.0       586226   \n",
       "3    GENERAL               Doctorate   11773091.0    1135547.0       695208   \n",
       "4         ST  Graduate\\nProfessional     141179.0          0.0       562190   \n",
       "..       ...                     ...          ...          ...          ...   \n",
       "537  GENERAL           Post Graduate    6139123.0     823416.0       511652   \n",
       "538       SC  Graduate\\nProfessional   17622476.0          0.0       783253   \n",
       "539  GENERAL  Graduate\\nProfessional  175968902.0    5522403.0       637707   \n",
       "540  GENERAL                Graduate   37687867.0    8397501.0       724433   \n",
       "541  GENERAL                Graduate   28351569.0    5322615.0       694945   \n",
       "\n",
       "     TOTAL ELECTORS  \n",
       "0            318471  \n",
       "1           1459556  \n",
       "2           1521363  \n",
       "3           1664160  \n",
       "4           1451418  \n",
       "..              ...  \n",
       "537         1601220  \n",
       "538         1762252  \n",
       "539         1785472  \n",
       "540         1694646  \n",
       "541         1614988  \n",
       "\n",
       "[542 rows x 13 columns]"
      ]
     },
     "execution_count": 30,
     "metadata": {},
     "output_type": "execute_result"
    }
   ],
   "source": [
    "winners_df"
   ]
  },
  {
   "cell_type": "code",
   "execution_count": 31,
   "metadata": {
    "scrolled": true
   },
   "outputs": [
    {
     "name": "stdout",
     "output_type": "stream",
     "text": [
      "Number of Parties which fielded at least 1 candidate:  131\n"
     ]
    }
   ],
   "source": [
    "print(\"Number of Parties which fielded at least 1 candidate: \", candidates_df.PARTY.unique().shape[0]-2)\n",
    "                                                                 # -2 : 1 for independent candidates and 1 for NOTA"
   ]
  },
  {
   "cell_type": "code",
   "execution_count": 32,
   "metadata": {
    "scrolled": true
   },
   "outputs": [
    {
     "name": "stdout",
     "output_type": "stream",
     "text": [
      "Number of Independent Candidates who contested the elections:  201\n"
     ]
    }
   ],
   "source": [
    "print(\"Number of Independent Candidates who contested the elections: \", candidates_df[candidates_df.PARTY == 'IND'].shape[0])"
   ]
  },
  {
   "cell_type": "code",
   "execution_count": 33,
   "metadata": {},
   "outputs": [
    {
     "name": "stdout",
     "output_type": "stream",
     "text": [
      "Number of Parties which won at least 1 seat:  35\n"
     ]
    }
   ],
   "source": [
    "print(\"Number of Parties which won at least 1 seat: \", winners_df.PARTY.unique().shape[0] - 1)\n",
    "                                                                # -1 : for independent winners"
   ]
  },
  {
   "cell_type": "code",
   "execution_count": 34,
   "metadata": {},
   "outputs": [
    {
     "name": "stdout",
     "output_type": "stream",
     "text": [
      "Number of Independent Winners:  4\n"
     ]
    }
   ],
   "source": [
    "print(\"Number of Independent Winners: \", winners_df[winners_df.PARTY == 'IND'].shape[0])"
   ]
  },
  {
   "cell_type": "markdown",
   "metadata": {},
   "source": [
    "Let's begin by importing`matplotlib.pyplot` and `seaborn`."
   ]
  },
  {
   "cell_type": "code",
   "execution_count": 35,
   "metadata": {},
   "outputs": [],
   "source": [
    "import seaborn as sns\n",
    "import matplotlib\n",
    "import matplotlib.pyplot as plt\n",
    "%matplotlib inline\n",
    "\n",
    "sns.set_style('darkgrid')\n",
    "matplotlib.rcParams['font.size'] = 14\n",
    "matplotlib.rcParams['figure.figsize'] = (15, 10)\n",
    "matplotlib.rcParams['figure.facecolor'] = '#00000000'"
   ]
  },
  {
   "cell_type": "code",
   "execution_count": 36,
   "metadata": {},
   "outputs": [],
   "source": [
    "import numpy as np"
   ]
  },
  {
   "cell_type": "markdown",
   "metadata": {},
   "source": [
    "### **Seat Share** \n",
    "<br> Here we calculate how many seats were won by each party, and the percentage seat distribution of the House."
   ]
  },
  {
   "cell_type": "code",
   "execution_count": 37,
   "metadata": {},
   "outputs": [],
   "source": [
    "all_party_seats = winners_df.PARTY.value_counts().sort_values(ascending = False)\n",
    "# frequency of each PARTY in the winner list"
   ]
  },
  {
   "cell_type": "code",
   "execution_count": 38,
   "metadata": {
    "scrolled": false
   },
   "outputs": [
    {
     "data": {
      "text/plain": [
       "BJP       303\n",
       "INC        52\n",
       "DMK        23\n",
       "YSRCP      22\n",
       "AITC       22\n",
       "SHS        18\n",
       "JD(U)      16\n",
       "BJD        12\n",
       "BSP        10\n",
       "TRS         9\n",
       "LJP         6\n",
       "NCP         5\n",
       "SP          5\n",
       "CPI(M)      5\n",
       "IND         4\n",
       "IUML        3\n",
       "JKN         3\n",
       "TDP         3\n",
       "SAD         2\n",
       "AIMIM       2\n",
       "ADAL        2\n",
       "SKM         1\n",
       "AJSUP       1\n",
       "JMM         1\n",
       "AIADMK      1\n",
       "VCK         1\n",
       "AAP         1\n",
       "RLTP        1\n",
       "KEC(M)      1\n",
       "JD(S)       1\n",
       "NDPP        1\n",
       "MNF         1\n",
       "RSP         1\n",
       "NPF         1\n",
       "AIUDF       1\n",
       "NPEP        1\n",
       "Name: PARTY, dtype: int64"
      ]
     },
     "execution_count": 38,
     "metadata": {},
     "output_type": "execute_result"
    }
   ],
   "source": [
    "all_party_seats"
   ]
  },
  {
   "cell_type": "code",
   "execution_count": 39,
   "metadata": {},
   "outputs": [],
   "source": [
    "others = all_party_seats[all_party_seats<10].sum()\n",
    "# simplifying the output for visualization purposes"
   ]
  },
  {
   "cell_type": "code",
   "execution_count": 40,
   "metadata": {},
   "outputs": [],
   "source": [
    "seat_distribution = all_party_seats[all_party_seats>=10].append(pd.Series({\"Others\":others}))"
   ]
  },
  {
   "cell_type": "code",
   "execution_count": 41,
   "metadata": {},
   "outputs": [
    {
     "data": {
      "text/plain": [
       "BJP       303\n",
       "INC        52\n",
       "DMK        23\n",
       "YSRCP      22\n",
       "AITC       22\n",
       "SHS        18\n",
       "JD(U)      16\n",
       "BJD        12\n",
       "BSP        10\n",
       "Others     64\n",
       "dtype: int64"
      ]
     },
     "execution_count": 41,
     "metadata": {},
     "output_type": "execute_result"
    }
   ],
   "source": [
    "seat_distribution"
   ]
  },
  {
   "cell_type": "markdown",
   "metadata": {},
   "source": [
    "**Plot the distribution as a `pie` chart.**"
   ]
  },
  {
   "cell_type": "code",
   "execution_count": 42,
   "metadata": {
    "scrolled": false
   },
   "outputs": [
    {
     "data": {
      "image/png": "[encoded data removed]",
      "text/plain": [
       "<Figure size 720x576 with 1 Axes>"
      ]
     },
     "metadata": {},
     "output_type": "display_data"
    }
   ],
   "source": [
    "plt.figure(figsize = (10,8))\n",
    "plt.title(\"SEAT SHARE\")\n",
    "# basic details\n",
    "\n",
    "plt.pie(seat_distribution, labels = seat_distribution.index,\n",
    "        colors = ['#f97d09', '#00bdfe', '#dc143c', '#0266b4', '#24b44c', '#ff6634', \n",
    "                                     '#203354', '#105e27', '#22409a', '#FFFFFF'],\n",
    "        wedgeprops = {'edgecolor' : 'black', 'linewidth' : 0.75, 'antialiased' : True})\n",
    "# pie chart created using the Data, labels, colors, and wedge border properties\n",
    "# colors are customised according to each party's colors\n",
    "\n",
    "seat_percent = round((seat_distribution/seat_distribution.sum())*100,2)\n",
    "legend = seat_percent.index + \" (\" + seat_percent.values.astype(str) + \"%) - \" + seat_distribution.values.astype(str)\n",
    "# the legend would the percentage seat share of each party (& others)\n",
    "\n",
    "plt.legend(legend, loc = \"right\", bbox_to_anchor = (1.6,0.5));\n",
    "# legend is placed outside the main chart accordingly"
   ]
  },
  {
   "cell_type": "markdown",
   "metadata": {},
   "source": [
    "As we can see, the **BJP** was the single largest party with more than 50% of the seats in the House, with **INC** at a distant second.\n",
    "<br> Other regional parties like **DMK**, **YSRCP**, **AITC**, **BJD** won some seats in their respective states, but no Alliance could pose as an alternative to **BJP**."
   ]
  },
  {
   "cell_type": "markdown",
   "metadata": {},
   "source": [
    "### Age\n",
    "<br>\n",
    "In this part we analyse the number of candidates, both contestants and winners, in each age group."
   ]
  },
  {
   "cell_type": "markdown",
   "metadata": {},
   "source": [
    "**We plot a `nested histogram` with each `bin` of size `5`**,\n",
    "<br> And calculate the mean, maximum and minimum age of all candidates and winners."
   ]
  },
  {
   "cell_type": "code",
   "execution_count": 43,
   "metadata": {
    "scrolled": false
   },
   "outputs": [
    {
     "data": {
      "image/png": "[encoded data removed]",
      "text/plain": [
       "<Figure size 1440x720 with 1 Axes>"
      ]
     },
     "metadata": {
      "needs_background": "light"
     },
     "output_type": "display_data"
    }
   ],
   "source": [
    "plt.figure(figsize = (20,10))\n",
    "plt.title(\"Age of Candidates Contested and Won\", fontsize=20)\n",
    "plt.xlabel(\"Age\", fontsize=17)\n",
    "plt.ylabel(\"Number of candidates\", fontsize=17)\n",
    "# put the basic labelling\n",
    "\n",
    "plt.xticks(fontsize=15)\n",
    "plt.yticks(fontsize=15)\n",
    "# axes ticks size\n",
    "\n",
    "sns.histplot(data = candidates_personal_df, x = 'AGE', bins = np.arange(20,100,5), color = 'indigo', alpha = 0.5)\n",
    "sns.histplot(data = winners_df, x = 'AGE', bins = np.arange(20,100,5), color = 'lightgreen', alpha = 1)\n",
    "# two histograms plotted, Won over Contested to show the relative percentage\n",
    "\n",
    "plt.legend([\"Candidates Contested\", \"Candidates Won\"], fontsize = 15)\n",
    "# legend to the plot\n",
    "\n",
    "plt.text(84.5, 238, \"All Candidates:\")\n",
    "plt.figtext(0.77, 0.63, round(candidates_personal_df.describe().AGE[['mean', 'min', 'max']], 2).to_string())\n",
    "\n",
    "plt.text(84.5,185, \"Winning Candidates:\")\n",
    "plt.figtext(0.77, 0.5, round(winners_df.describe().AGE[['mean', 'min', 'max']], 2).to_string());\n",
    "# basic stats printed"
   ]
  },
  {
   "cell_type": "markdown",
   "metadata": {},
   "source": [
    "As we can see from the Nested Histogram, the age group `55-60` has the maximum number of Candidates, and Winners, followed closely by the age group `50-55`. <br> The average age of the house - `54 years` also lies in this range. A majority of the winners are between the ages `45-70`, which can be considered as the normal peak years of a Politician."
   ]
  },
  {
   "cell_type": "code",
   "execution_count": 44,
   "metadata": {
    "scrolled": true
   },
   "outputs": [
    {
     "name": "stdout",
     "output_type": "stream",
     "text": [
      "Youngest Member of the House:\n"
     ]
    },
    {
     "data": {
      "text/html": [
       "<div>\n",
       "<style scoped>\n",
       "    .dataframe tbody tr th:only-of-type {\n",
       "        vertical-align: middle;\n",
       "    }\n",
       "\n",
       "    .dataframe tbody tr th {\n",
       "        vertical-align: top;\n",
       "    }\n",
       "\n",
       "    .dataframe thead th {\n",
       "        text-align: right;\n",
       "    }\n",
       "</style>\n",
       "<table border=\"1\" class=\"dataframe\">\n",
       "  <thead>\n",
       "    <tr style=\"text-align: right;\">\n",
       "      <th></th>\n",
       "      <th>NAME</th>\n",
       "      <th>PARTY</th>\n",
       "      <th>STATE</th>\n",
       "      <th>CONSTITUENCY</th>\n",
       "    </tr>\n",
       "  </thead>\n",
       "  <tbody>\n",
       "    <tr>\n",
       "      <th>0</th>\n",
       "      <td>Chandrani Murmu</td>\n",
       "      <td>BJD</td>\n",
       "      <td>Odisha</td>\n",
       "      <td>KEONJHAR</td>\n",
       "    </tr>\n",
       "  </tbody>\n",
       "</table>\n",
       "</div>"
      ],
      "text/plain": [
       "              NAME PARTY   STATE CONSTITUENCY\n",
       "0  Chandrani Murmu   BJD  Odisha     KEONJHAR"
      ]
     },
     "execution_count": 44,
     "metadata": {},
     "output_type": "execute_result"
    }
   ],
   "source": [
    "print(\"Youngest Member of the House:\")\n",
    "winners_df[(winners_df.AGE == 25)][[\"NAME\", \"PARTY\", \"STATE\", \"CONSTITUENCY\"]].reset_index(drop = True)"
   ]
  },
  {
   "cell_type": "code",
   "execution_count": 45,
   "metadata": {},
   "outputs": [
    {
     "name": "stdout",
     "output_type": "stream",
     "text": [
      "Oldest Member of the House:\n"
     ]
    },
    {
     "data": {
      "text/html": [
       "<div>\n",
       "<style scoped>\n",
       "    .dataframe tbody tr th:only-of-type {\n",
       "        vertical-align: middle;\n",
       "    }\n",
       "\n",
       "    .dataframe tbody tr th {\n",
       "        vertical-align: top;\n",
       "    }\n",
       "\n",
       "    .dataframe thead th {\n",
       "        text-align: right;\n",
       "    }\n",
       "</style>\n",
       "<table border=\"1\" class=\"dataframe\">\n",
       "  <thead>\n",
       "    <tr style=\"text-align: right;\">\n",
       "      <th></th>\n",
       "      <th>NAME</th>\n",
       "      <th>PARTY</th>\n",
       "      <th>STATE</th>\n",
       "      <th>CONSTITUENCY</th>\n",
       "    </tr>\n",
       "  </thead>\n",
       "  <tbody>\n",
       "    <tr>\n",
       "      <th>0</th>\n",
       "      <td>DR. SHAFIQUR REHMAN BARQ</td>\n",
       "      <td>SP</td>\n",
       "      <td>Uttar Pradesh</td>\n",
       "      <td>SAMBHAL</td>\n",
       "    </tr>\n",
       "  </tbody>\n",
       "</table>\n",
       "</div>"
      ],
      "text/plain": [
       "                       NAME PARTY          STATE CONSTITUENCY\n",
       "0  DR. SHAFIQUR REHMAN BARQ    SP  Uttar Pradesh      SAMBHAL"
      ]
     },
     "execution_count": 45,
     "metadata": {},
     "output_type": "execute_result"
    }
   ],
   "source": [
    "print(\"Oldest Member of the House:\")\n",
    "winners_df[(winners_df.AGE == 86)][[\"NAME\", \"PARTY\", \"STATE\", \"CONSTITUENCY\"]].reset_index(drop = True)"
   ]
  },
  {
   "cell_type": "markdown",
   "metadata": {},
   "source": [
    "### Seat Category\n",
    "<br> Here we calculate the ratio of seats which have a special reservation status for candidates of different backward classes."
   ]
  },
  {
   "cell_type": "code",
   "execution_count": 46,
   "metadata": {},
   "outputs": [],
   "source": [
    "seat_category = winners_df.CATEGORY.value_counts()\n",
    "# winners_df has 1 constituency only 1 time, so analysing its CATEGORY column will give the correct result"
   ]
  },
  {
   "cell_type": "code",
   "execution_count": 47,
   "metadata": {},
   "outputs": [
    {
     "data": {
      "text/html": [
       "<div>\n",
       "<style scoped>\n",
       "    .dataframe tbody tr th:only-of-type {\n",
       "        vertical-align: middle;\n",
       "    }\n",
       "\n",
       "    .dataframe tbody tr th {\n",
       "        vertical-align: top;\n",
       "    }\n",
       "\n",
       "    .dataframe thead th {\n",
       "        text-align: right;\n",
       "    }\n",
       "</style>\n",
       "<table border=\"1\" class=\"dataframe\">\n",
       "  <thead>\n",
       "    <tr style=\"text-align: right;\">\n",
       "      <th></th>\n",
       "      <th>CATEGORY</th>\n",
       "    </tr>\n",
       "  </thead>\n",
       "  <tbody>\n",
       "    <tr>\n",
       "      <th>GENERAL</th>\n",
       "      <td>400</td>\n",
       "    </tr>\n",
       "    <tr>\n",
       "      <th>SC</th>\n",
       "      <td>86</td>\n",
       "    </tr>\n",
       "    <tr>\n",
       "      <th>ST</th>\n",
       "      <td>56</td>\n",
       "    </tr>\n",
       "  </tbody>\n",
       "</table>\n",
       "</div>"
      ],
      "text/plain": [
       "         CATEGORY\n",
       "GENERAL       400\n",
       "SC             86\n",
       "ST             56"
      ]
     },
     "execution_count": 47,
     "metadata": {},
     "output_type": "execute_result"
    }
   ],
   "source": [
    "pd.DataFrame(seat_category)"
   ]
  },
  {
   "cell_type": "markdown",
   "metadata": {},
   "source": [
    "**Plot the distribution as a `Pie chart`:**"
   ]
  },
  {
   "cell_type": "code",
   "execution_count": 48,
   "metadata": {
    "scrolled": true
   },
   "outputs": [
    {
     "data": {
      "image/png": "[encoded data removed]",
      "text/plain": [
       "<Figure size 576x360 with 1 Axes>"
      ]
     },
     "metadata": {},
     "output_type": "display_data"
    }
   ],
   "source": [
    "sns.set_palette(sns.color_palette('Set2'))\n",
    "plt.figure(figsize=(8,5))\n",
    "plt.title(\"Distribution of Seats by Category\", size=18, x = 0.52, y =0.95)\n",
    "\n",
    "plt.pie(seat_category, labels = seat_category.index, autopct = '%1.1f%%', startangle = 45);\n",
    "# percentage of seats shown on the plot"
   ]
  },
  {
   "cell_type": "markdown",
   "metadata": {},
   "source": [
    "As we can see, about `26%` seats in the Lok Sabha are reserved for SC and ST candidates, which is appropriate as they comprise about 25% of the population (as per the 2011 Census)."
   ]
  },
  {
   "cell_type": "markdown",
   "metadata": {},
   "source": [
    "### Gender\n",
    "<br> In this section we see the gender diversity of the contesting candidates, as well as the winning Members of Parliament."
   ]
  },
  {
   "cell_type": "markdown",
   "metadata": {},
   "source": [
    "**Plot the data as a horizontal bar chart.**"
   ]
  },
  {
   "cell_type": "code",
   "execution_count": 49,
   "metadata": {
    "scrolled": false
   },
   "outputs": [
    {
     "data": {
      "image/png": "[encoded data removed]",
      "text/plain": [
       "<Figure size 1080x432 with 1 Axes>"
      ]
     },
     "metadata": {
      "needs_background": "light"
     },
     "output_type": "display_data"
    }
   ],
   "source": [
    "gender_group = candidates_personal_df.groupby([\"GENDER\", \"WINNER\"]).size()\n",
    "gender_group = gender_group.unstack()\n",
    "gender_group = gender_group[[1,0]]\n",
    "# a2a from stack overflow\n",
    "\n",
    "# gender with winning condition is extracted as a dataframe\n",
    "\n",
    "sns.set_palette(sns.color_palette(\"icefire\"))\n",
    "# color palette set\n",
    "gender_group.plot(kind = 'barh', figsize = (15,6), title = \"Gender Comparison of Contesting and Winning Candidates\")\n",
    "# horizontal bar plot created with Pandas \n",
    "\n",
    "plt.legend([\"Won\", \"Lost\"])\n",
    "plt.xlabel(\"Number of Candidates\")\n",
    "plt.ylabel(\"Gender\")\n",
    "# legend and labels set\n",
    "\n",
    "plt.figtext(0.738,0.53, \"Contesting Candidates:\\n\" + \n",
    "            round((candidates_personal_df.GENDER.value_counts(normalize=True)*100),2).to_string().replace(\"\\n\", \"%\\n\")+\"%\")\n",
    "\n",
    "plt.figtext(0.738,0.33, \"Winning Candidates:\\n\" + \n",
    "            round((winners_df.GENDER.value_counts(normalize=True)*100),2).to_string().replace(\"\\n\", \"%\\n\")+\"%\")\n",
    "\n",
    "# Total candidates statistics (percentages) printed on the chart, with some applied String formatting to give the look\n",
    "\n",
    "win_percent = round((winners_df.GENDER.value_counts()/candidates_personal_df.GENDER.value_counts())*100,2)\n",
    "plt.figtext(0.395, 0.63, str(round(win_percent.MALE,2)) + \"% candidates won\")\n",
    "plt.figtext(0.175, 0.25, str(round(win_percent.FEMALE,2))+ \"% candidates won\");\n",
    "# percentage of winning, gender-wise printed on the chart"
   ]
  },
  {
   "cell_type": "code",
   "execution_count": 50,
   "metadata": {},
   "outputs": [
    {
     "name": "stdout",
     "output_type": "stream",
     "text": [
      "No. of male MPs:  464\n",
      "No. of female MPs:  78\n"
     ]
    }
   ],
   "source": [
    "print(\"No. of male MPs: \", winners_df.GENDER.value_counts()[\"MALE\"])\n",
    "print(\"No. of female MPs: \", winners_df.GENDER.value_counts()[\"FEMALE\"])"
   ]
  },
  {
   "cell_type": "markdown",
   "metadata": {},
   "source": [
    "As we can see, the House has `14.4%` Female members and `85.6%` Male members. \n",
    "<br> </br>\n",
    "One surprising inference we can draw from the Analysis is that despite a higher percentage of Male Candidates contesting the elections than Female (`87.2%` vs `12.8%`), the percentage of Female Contestants who won was greater than that of Male Contestants (`30.2%` vs `26.4%`).\n",
    "<br> ***This means, a Female Candidate had a greater chance of winning the election than a Male Candidate.***"
   ]
  },
  {
   "cell_type": "markdown",
   "metadata": {},
   "source": [
    "### Educational Qualifications\n",
    "<br> Here we analyse the educational qualifications of all the Winning Candidates."
   ]
  },
  {
   "cell_type": "code",
   "execution_count": 51,
   "metadata": {},
   "outputs": [
    {
     "data": {
      "text/plain": [
       "array(['Graduate\\nProfessional', 'Graduate', 'Doctorate', '8th Pass',\n",
       "       'Post Graduate', '12th Pass', '10th Pass', 'Others', '5th Pass',\n",
       "       'Illiterate', 'Literate'], dtype=object)"
      ]
     },
     "execution_count": 51,
     "metadata": {},
     "output_type": "execute_result"
    }
   ],
   "source": [
    "winners_df[\"EDUCATION\"].unique()"
   ]
  },
  {
   "cell_type": "code",
   "execution_count": 52,
   "metadata": {},
   "outputs": [],
   "source": [
    "education = winners_df.EDUCATION.value_counts()\n",
    "education = education.reindex([\"Illiterate\", \"Literate\", \"5th Pass\", \"8th Pass\", \"10th Pass\", \"12th Pass\", \"Graduate\", \n",
    "                               \"Graduate\\nProfessional\",\"Post Graduate\", \"Doctorate\", \"Others\"])\n",
    "# arrange the Series in a systematic order"
   ]
  },
  {
   "cell_type": "code",
   "execution_count": 53,
   "metadata": {},
   "outputs": [
    {
     "data": {
      "text/plain": [
       "Illiterate                  1\n",
       "Literate                    1\n",
       "5th Pass                    4\n",
       "8th Pass                   12\n",
       "10th Pass                  45\n",
       "12th Pass                  69\n",
       "Graduate                  133\n",
       "Graduate\\nProfessional    101\n",
       "Post Graduate             135\n",
       "Doctorate                  24\n",
       "Others                     17\n",
       "Name: EDUCATION, dtype: int64"
      ]
     },
     "execution_count": 53,
     "metadata": {},
     "output_type": "execute_result"
    }
   ],
   "source": [
    "education"
   ]
  },
  {
   "cell_type": "markdown",
   "metadata": {},
   "source": [
    "**Plot the data as a Bar Chart.**"
   ]
  },
  {
   "cell_type": "code",
   "execution_count": 54,
   "metadata": {},
   "outputs": [
    {
     "data": {
      "image/png": "[encoded data removed]",
      "text/plain": [
       "<Figure size 1080x504 with 1 Axes>"
      ]
     },
     "metadata": {
      "needs_background": "light"
     },
     "output_type": "display_data"
    }
   ],
   "source": [
    "plt.figure(figsize=(15,7))\n",
    "plt.xticks(rotation = 60);\n",
    "# plot detailing\n",
    "\n",
    "plt.xlabel(\"Education Status\", fontsize = 15)\n",
    "plt.ylabel(\"No. of Candidates\", fontsize = 15)\n",
    "plt.title(\"EDUCATIONAL QUALIFICATIONS OF WINNERS\",fontsize = 18)\n",
    "# labels and title\n",
    "\n",
    "sns.barplot(x = education.index, y = education.values);\n",
    "# plotting the barplot"
   ]
  },
  {
   "cell_type": "markdown",
   "metadata": {},
   "source": [
    "We see, contrary to popular belief, most MPs are well educated and have at least a `Graduate` degree.\n",
    "<br> There are less than 150 MPs who are `12th Pass` or below."
   ]
  },
  {
   "cell_type": "markdown",
   "metadata": {},
   "source": [
    "**Here we selected some specific columns of the DataFrames and performed Analysis and Visualization on those data. Now we shall move onto more complex Analysis and answering specific Questions.**"
   ]
  },
  {
   "cell_type": "markdown",
   "metadata": {},
   "source": [
    "Now we shall pose some general Election related questions, and find the answers to those using Data Analysis, and Visualize them wherever possible."
   ]
  },
  {
   "cell_type": "markdown",
   "metadata": {},
   "source": [
    "We first create a new DataFrame `votes_df` with the sum of `TOTAL VOTES` column of the `candidates_df` DataFrame and the sum of `TOTAL ELECTORS` column of the `winners_df` DataFrame, grouping them by the `STATE` and `CONSTITUENCY` columns and append the `VOTER TURNOUT` in each constituency, as a column, to the end of the DataFrame."
   ]
  },
  {
   "cell_type": "code",
   "execution_count": 55,
   "metadata": {},
   "outputs": [],
   "source": [
    "total_voters = candidates_df.groupby([\"STATE\", \"CONSTITUENCY\"])[[\"TOTAL VOTES\"]].sum()\n",
    "total_electors = winners_df.groupby([\"STATE\", \"CONSTITUENCY\"])[[\"TOTAL ELECTORS\"]].sum()\n",
    "votes_df = total_voters.join(total_electors)\n",
    "votes_df[\"VOTER TURNOUT\"] = round(votes_df[\"TOTAL VOTES\"]/votes_df[\"TOTAL ELECTORS\"]*100,2)"
   ]
  },
  {
   "cell_type": "markdown",
   "metadata": {},
   "source": [
    "First we analyse the data to answer the second part of the question, i.e., **Which Constituencies had the highest and the lowest Voter Turnout?**"
   ]
  },
  {
   "cell_type": "code",
   "execution_count": 56,
   "metadata": {},
   "outputs": [],
   "source": [
    "votes_df = votes_df.rename(index = {\"Andaman & Nicobar Islands\": \"Andaman &\\nNicobar Islands\"})\n",
    "# this is done purely for visualization purposes\n",
    "const_turnout = votes_df.sort_values(by = [\"VOTER TURNOUT\"], ascending = False)\n",
    "# Voter Turnout of all constituencies\n",
    "\n",
    "high_consts = const_turnout.head(10)\n",
    "low_consts = const_turnout.tail(10)\n",
    "# getting the highest and the lowest Voter Outcome Constituencies"
   ]
  },
  {
   "cell_type": "code",
   "execution_count": 57,
   "metadata": {},
   "outputs": [],
   "source": [
    "# Just for aesthetics\n",
    "\n",
    "xh = high_consts.index.get_level_values(1) + \"\\n(\" + high_consts.index.get_level_values(0) + \")\"\n",
    "xl = low_consts.index.get_level_values(1) + \"\\n(\" + low_consts.index.get_level_values(0) + \")\"\n",
    "\n",
    "# the xticks are re-written accordingly to show the desired result"
   ]
  },
  {
   "cell_type": "markdown",
   "metadata": {},
   "source": [
    "We now have the required answer for Constituencies. \n",
    "<br>Now we analyse the data to answer the first part of the question, i.e., **Which States/UTs had the highest and the lowest Voter Turnout?**"
   ]
  },
  {
   "cell_type": "code",
   "execution_count": 58,
   "metadata": {},
   "outputs": [],
   "source": [
    "# getting the state-wise data now\n",
    "states_df = votes_df.groupby(\"STATE\").sum().drop([\"VOTER TURNOUT\"], axis = 1)\n",
    "states_df[\"VOTER TURNOUT\"] = round(states_df[\"TOTAL VOTES\"]/states_df[\"TOTAL ELECTORS\"]*100,2)\n",
    "# necessary arithmetic to calculate the required Voter Turnout of all States"
   ]
  },
  {
   "cell_type": "code",
   "execution_count": 59,
   "metadata": {},
   "outputs": [],
   "source": [
    "states_turnout = states_df.sort_values(by = \"VOTER TURNOUT\", ascending = False)\n",
    "high_stat = states_turnout.head(10)\n",
    "low_stat = states_turnout.tail(10)\n",
    "# getting the highest and lowest Voter Outcome States"
   ]
  },
  {
   "cell_type": "markdown",
   "metadata": {},
   "source": [
    "**Plot the data to show the trends in Voter Turnout for the top 10 States/UTs and Constituencies.**\n",
    "<br>Here we plot 4 `Line Charts` in a Multiplot to describe the trends and answer the posed question."
   ]
  },
  {
   "cell_type": "code",
   "execution_count": 60,
   "metadata": {
    "scrolled": false
   },
   "outputs": [
    {
     "data": {
      "image/png": "[encoded data removed]",
      "text/plain": [
       "<Figure size 1584x1008 with 4 Axes>"
      ]
     },
     "metadata": {
      "needs_background": "light"
     },
     "output_type": "display_data"
    }
   ],
   "source": [
    "fig, axes = plt.subplots(2,2, figsize = (22,14))\n",
    "# plot will be a subplot of 4 plots\n",
    "# First row will be of States, second row of Constituencies\n",
    "\n",
    "# Highest State Voter Outcome Plot\n",
    "axes[0][0].tick_params(axis = 'x', labelrotation = 50)\n",
    "axes[0][0].plot(high_stat.index[::-1], high_stat[\"VOTER TURNOUT\"][::-1], 'b-o', linewidth = 2,\n",
    "         markersize = 10)\n",
    "axes[0][0].set_ylabel(\"VOTER TURNOUT\\n (in %)\", labelpad = 15)\n",
    "axes[0][0].set_title(\"STATES/UTs WITH HIGHEST VOTER TURNOUT\")\n",
    "axes[0][0].grid(linewidth = 2)\n",
    "# putting the necessary detailing and plotting, [::-1] is used to reverse the order and get an increasing graph\n",
    "\n",
    "# Lowest State Voter Outcome Plot\n",
    "axes[0][1].tick_params(axis = 'x', labelrotation = 50)\n",
    "axes[0][1].plot(low_stat.index, low_stat[\"VOTER TURNOUT\"], 'r-o', linewidth = 2,\n",
    "         markersize = 10)\n",
    "axes[0][1].set_ylabel(\"VOTER TURNOUT\\n (in %)\", labelpad = 15)\n",
    "axes[0][1].set_title(\"STATES/UTs WITH LOWEST VOTER TURNOUT\")\n",
    "axes[0][1].grid(linewidth = 2)\n",
    "# putting the necessary detailing and plotting\n",
    "\n",
    "# Now the Constituencies\n",
    "\n",
    "# Highest Consituency Voter Outcome Plot\n",
    "axes[1][0].tick_params(axis = 'x', labelrotation = 55)\n",
    "axes[1][0].plot(xh[::-1], high_consts[\"VOTER TURNOUT\"][::-1], 'g-o', linewidth = 2,\n",
    "         markersize = 10)\n",
    "axes[1][0].set_ylabel(\"VOTER TURNOUT\\n (in %)\", labelpad = 15)\n",
    "axes[1][0].set_title(\"CONSTITUENCIES WITH HIGHEST VOTER TURNOUT\")\n",
    "axes[1][0].grid(linewidth = 2)\n",
    "# putting the necessary detailing and plotting, [::-1] is used to reverse the order and get an increasing graph\n",
    "\n",
    "# Lowest Constituency Voter Outcome Plot\n",
    "axes[1][1].tick_params(axis = 'x', labelrotation = 55)\n",
    "axes[1][1].plot(xl, low_consts[\"VOTER TURNOUT\"], 'm-o', linewidth = 2,\n",
    "         markersize = 10)\n",
    "axes[1][1].set_ylabel(\"VOTER TURNOUT\\n (in %)\", labelpad = 15)\n",
    "axes[1][1].set_title(\"CONSTITUENCIES WITH LOWEST VOTER TURNOUT\")\n",
    "axes[1][1].grid(linewidth = 2)\n",
    "# putting the necessary detailing and plotting\n",
    "\n",
    "fig.tight_layout();\n",
    "# to prevent overlapping of plots"
   ]
  },
  {
   "cell_type": "code",
   "execution_count": 61,
   "metadata": {},
   "outputs": [
    {
     "name": "stdout",
     "output_type": "stream",
     "text": [
      "National Voter Turnout: 65.26%\n"
     ]
    }
   ],
   "source": [
    "nat_average = round(states_turnout.sum()[\"TOTAL VOTES\"]/states_turnout.sum()[\"TOTAL ELECTORS\"]*100,2)\n",
    "print(\"National Voter Turnout: \", nat_average, \"%\", sep=\"\")"
   ]
  },
  {
   "cell_type": "markdown",
   "metadata": {},
   "source": [
    "## Inferences and Conclusion\n",
    "\n",
    "To sum up the entire analysis in 1 statement: \n",
    "<br></br>**The incumbent BJP Government led by Prime Minister Narendra Modi secured an overwhelming victory over its opponents and secured a second term in the office, winning 303 seats out of 542.**\n",
    "<br></br>\n",
    "* The average age of the House is *54 years* with maximum MPs between the ages 45-70.\n",
    "* Nearly *26%* of the seats in the House are reserved for SC/ST candidates.\n",
    "* More than *14%* of the House consists of Women MPs.\n",
    "* Female candidates had a much higher winning percentage *(30.23%)* as compared to Male candidates *(26.36%)*.\n",
    "* Less than *150 MPs* are 12th Pass or below.\n",
    "* The National average Voter Turnout was *65.26%*.\n",
    "* Many North Eastern states registered some of the highest voter turnouts in the country.\n",
    "* Important states like Bihar, Uttar Pradesh, and Maharashtra had the lowest voter turnouts in the country.\n",
    "* Lakshadweep had the best voter turnout of nearly *84%*.\n",
    "* Jammu and Kashmir had the worst voter turnout of about *42.6%*.\n",
    "* More than *43%* of the elected MPs have a self-declared criminal record, with the *BJP* and the *INC* combined having more than *62%* of those.\n",
    "* An astonishing *88%* of the elected MPs have Assets worth more than 1 crore while nearly *85%* of the MPs have a Net Worth higher than 1 crore.\n",
    "* **One of the key takeaways from the EDA is that wherever it was a direct contest between *BJP* and *INC*, people favored the  *BJP* candidate more.**\n",
    "* **C.R. Patil** registered a record margin of victory with over *6.89 lakhs votes* in Navsari, Gujarat.\n",
    "* B.P. Saroj of BJP won the closest victory over Tribhuvan Ram of BSP with just *181 votes* in Machhlishahr, Uttar Pradesh.\n",
    "* The **BJP** dominated the Opposition in all parts of the country, sweeping **North India**, **Central India**, **West India** and **North-East India** while making substantial gains in **East India** and emerging as the largest party in **South India**.\n",
    "* **INC**, the principal opposition party, on the other hand, had a very sorrowful outing in the Polls. It failed to have any significant impact anywhere in the country, except in the **South Indian** states of Kerala and Tamil Nadu, and some seats in *Punjab* and *Assam*.\n",
    "<br></br>\n",
    "To conclude, the newly elected 17th Lok Sabha will be led by Prime Minister Narendra Modi and his party the Bharatiya Janata Party (BJP), with Indian National Congress (INC) being the second largest party in the House."
   ]
  }
 ],
 "metadata": {
  "interpreter": {
   "hash": "3a4565eb6215a326995d9cfd00f1782ebb9ab334d122fb684360bfee2e0fdc62"
  },
  "kernelspec": {
   "display_name": "Python 3.9.1 64-bit",
   "language": "python",
   "name": "python3"
  },
  "language_info": {
   "codemirror_mode": {
    "name": "ipython",
    "version": 3
   },
   "file_extension": ".py",
   "mimetype": "text/x-python",
   "name": "python",
   "nbconvert_exporter": "python",
   "pygments_lexer": "ipython3",
   "version": "3.9.1"
  }
 },
 "nbformat": 4,
 "nbformat_minor": 4
}
